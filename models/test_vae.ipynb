{
 "cells": [
  {
   "cell_type": "code",
   "execution_count": 15,
   "id": "dda8c280",
   "metadata": {},
   "outputs": [],
   "source": [
    "from simple_VAE import VAE,loss_function,train,test"
   ]
  },
  {
   "cell_type": "code",
   "execution_count": 14,
   "id": "e53a9ab5",
   "metadata": {},
   "outputs": [],
   "source": []
  },
  {
   "cell_type": "code",
   "execution_count": null,
   "id": "050f5680",
   "metadata": {},
   "outputs": [],
   "source": []
  }
 ],
 "metadata": {
  "kernelspec": {
   "display_name": "Python 3",
   "language": "python",
   "name": "python3"
  },
  "language_info": {
   "codemirror_mode": {
    "name": "ipython",
    "version": 3
   },
   "file_extension": ".py",
   "mimetype": "text/x-python",
   "name": "python",
   "nbconvert_exporter": "python",
   "pygments_lexer": "ipython3",
   "version": "3.8.10"
  }
 },
 "nbformat": 4,
 "nbformat_minor": 5
}
