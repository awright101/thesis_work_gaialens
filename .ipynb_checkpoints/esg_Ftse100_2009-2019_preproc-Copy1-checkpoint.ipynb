{
 "cells": [
  {
   "cell_type": "code",
   "execution_count": 1,
   "id": "0de1042f",
   "metadata": {},
   "outputs": [],
   "source": [
    "#RUN\n",
    "from pandas import read_csv\n",
    "import pandas as pd \n",
    "import numpy as np\n",
    "import matplotlib.pyplot as plt"
   ]
  },
  {
   "cell_type": "code",
   "execution_count": 2,
   "id": "03ac279f",
   "metadata": {},
   "outputs": [],
   "source": [
    "#RUN\n",
    "ESG_DF_OG = pd.read_excel('data/output.xlsx')"
   ]
  },
  {
   "cell_type": "code",
   "execution_count": 6,
   "id": "20f76554",
   "metadata": {},
   "outputs": [
    {
     "name": "stdout",
     "output_type": "stream",
     "text": [
      "Entity\n",
      "Name\n",
      "Year\n",
      "MSCI Rating\n",
      "MSCI Environment Score\n",
      "MSCI Social\n",
      "MSCI Goverance\n",
      "Entenched board\n",
      "Related Party Transactions\n",
      "Secuities Fraud\n",
      "Threat of delisting\n",
      "One share one vote\n",
      "Majority Voting\n",
      "Accounting Investigations\n",
      "Late filings\n",
      "Qualified Auditor Opinion\n",
      "Controlling Shareholder\n",
      "Freefloat\n",
      "Largest insider\n",
      "Insider Percentage Float\n",
      "InsiderType\n",
      "Largest outsider\n",
      "Largest outsider %\n",
      "MSCI Country\n",
      "Country of Headquarters\n",
      "Country of Incorporation\n",
      "Country of Risk\n",
      "Country of Top Geographical Revenue\n",
      "GICS Sector\n",
      "GICS Industry Group\n",
      "GICS Industry\n",
      "GICS Sub-Industry\n",
      "Revenue\n",
      "COGS inc. Depn & Amor\n",
      "Costs\n",
      "EBITDA\n",
      "Net Income\n",
      "Operating Margin\n",
      "Payout Ratio\n",
      "Net Cash from Operating Activity\n",
      "Net Cash from Investing Activity\n",
      "Net Cash from Financing Activity\n",
      "Total Debt\n",
      "Short Term Debt\n",
      "Long Term Debt\n",
      "Total Assets\n",
      "Interest Expense\n",
      "Receivables\n",
      "Inventory\n",
      "Intangibles\n",
      "Sharesoutstanding\n",
      "Environmental Disclosure Score\n",
      "GRI Criteria Compliance\n",
      "Global Reporting Initiatives Checked\n",
      "Verification Type\n",
      "GHG Scope 1\n",
      "GHG Scope 2\n",
      "Total GHG Emissions\n",
      "GHG Scope 3\n",
      "Travel Emissions (Th Tonnes)\n",
      "VOC Emissions\n",
      "ODS Emissions\n",
      "Total Energy Consumption\n",
      "Electricity Used\n",
      "Renewable Energy Use\n",
      "Fuel Used - Coal/Lignite\n",
      "Fuel Used - Natural Gas\n",
      "Fuel Used - Oil/Diesel\n",
      "Biomass Fuel Use %\n",
      "Total Water Use\n",
      "Total Water Withdrawal\n",
      "Municipal Water Use\n",
      "Groundwater Withdrawals\n",
      "Surface Water Withdrawal\n",
      "Reclaimed Water Use\n",
      "Total Water Recycled\n",
      "% Water Recycled\n",
      "Water Discharged\n",
      "Chemical Oxygen Demand of Discharges\n",
      "Total Waste\n",
      "Hazardous Waste\n",
      "Waste Recycled\n",
      "Waste Sent to Landfills\n",
      "Environmental Fines #\n",
      "Environmental Fines $\n",
      "Environmental Accounting Cost\n",
      "Number of Sites\n",
      "ISO 14001 Certified Sites\n",
      "% Sites Certified\n",
      "Renewable Electricity Target Policy\n",
      "Energy Efficiency Policy\n",
      "Emissions Reduction Initiatives\n",
      "Environmental Supply Chain Management\n",
      "Environmental Quality Management  Policy\n",
      "Green Building Policy\n",
      "Sustainable Packaging\n",
      "Waste Reduction Policy\n",
      "Water Policy\n",
      "Biodiversity Policy\n",
      "Climate Change Policy\n",
      "New Products - Climate Change\n",
      "Climate Change Opportunities Discussed\n",
      "Risks of Climate Change Discussed\n",
      "Social Disclosure Score\n",
      "Number of Employees\n",
      "Employee Turnover %\n",
      "% Women in Workforce\n",
      "% Women in Middle and or Other Management\n",
      "% Women in Mgt\n",
      "Gender Pay Gap Breakout\n",
      "Workforce Accidents\n",
      "Lost Time from Accidents\n",
      "Lost Time Incident Rate\n",
      "Total Recordable Incident Rate\n",
      "Fatalities - Total\n",
      "Fatalities - Employees\n",
      "Fatalities - Contractors\n",
      "Fatalities - Third Party\n",
      "Social Supply Chain Management\n",
      "Sustain Sup Guidelines Encomp ESG Area Pub Disclsd\n",
      "Number of Supplier Audits Conducted\n",
      "% Suppliers Audited\n",
      "Corporate Cash Giving\n",
      "Community Spending\n",
      "Anti-Bribery Ethics Policy\n",
      "Business Ethics Policy\n",
      "Employee CSR Training\n",
      "Employee Protection / Whistle Blower Policy\n",
      "Equal Opportunity Policy\n",
      "Fair Remuneration Policy\n",
      "Health and Safety Policy\n",
      "Human Rights Policy\n",
      "Training Policy\n",
      "Policy Against Child Labor\n",
      "UN Global Compact Signatory\n",
      "SDGs Target Policy\n",
      "Governance Disclosure Score\n",
      "Size of the Board\n",
      "Unitary or Two Tier Board System\n",
      "# Employee Representatives on Board\n",
      "Classified Board System\n",
      "# Non Exec Dir on Board\n",
      "% Non Exec Dir on Board\n",
      "# Independent Directors\n",
      "% Independent Directors\n",
      "CEO Duality\n",
      "Independent Chairperson\n",
      "Independent Lead Director\n",
      "Presiding Director\n",
      "Former CEO or its Equivalent on Board\n",
      "# Women on Board\n",
      "% Women on Board\n",
      "Female Chief Executive Officer or Equivalent\n",
      "Female Chairperson or Equivalent\n",
      "# Executives / Company Mgrs\n",
      "CEO or Equivalent Appointed from Within\n",
      "# Female Executives\n",
      "% Female Executives\n",
      "Age of the Youngest Director\n",
      "Age of the Oldest Director\n",
      "Board of Directors Age Range\n",
      "Board Average Age\n",
      "Board Duration (Years)\n",
      "Executive Director Board Duration\n",
      "# Board Meetings\n",
      "Board Meeting Attendance %\n",
      "Independent Directors Board Meeting Attendance %\n",
      "# Dir Attending Less than 75% of Mtgs\n",
      "Size of Audit Committee\n",
      "# Independent Dir on Audit Cmte\n",
      "% Independent Dir on Audit Cmte\n",
      "Independent Audit Committee Chairperson\n",
      "# Non Exec Dir on Audit Cmte\n",
      "Audit Committee Meetings\n",
      "Audit Committee Meeting Attendance Percentage\n",
      "Size of Compensation Committee\n",
      "# Independent Dir on Comp Cmte\n",
      "% Independent Dir on Comp Cmte\n",
      "Independent Compensation Committee Chairperson\n",
      "# Non Exec Dir on Comp Cmte\n",
      "# Comp Committee Meetings\n",
      "Compensation Committee Meeting Attendance %\n",
      "Outside Compensation Advisors Appointed\n",
      "Executive Compensation Consultant Srvcs Provided\n",
      "Executive Comp Advisory Fees Pd to Comp Adv\n",
      "Size of Nomination Committee\n",
      "# Independent Dir on Nom Cmte\n",
      "% of Ind Directors on Nomination Committee\n",
      "Independent Nomination Committee Chairperson\n",
      "# Non Exec Dir on Nom Cmte\n",
      "# Nom Cmte Meetings\n",
      "Nomination Committee Meeting Attendance Percentage\n",
      "CSR/Sustainability Committee\n",
      "Non-Executive Director with Responsibility for CSR\n",
      "Executive Director with Responsibility for CSR\n",
      "Executive Compensation Linked to ESG\n",
      "ESG Linked Compensation for Board\n",
      "Clawback Provision for Executive Compensation\n",
      "Chg of Ctrl Benefits/Golden Parachute Agreements\n",
      "Political Donations\n",
      "Taxes Paid to Governments\n",
      "Dual Class Unequal Voting Rights - Common Shares\n",
      "Say On Pay Provision\n",
      "Frequency of Say on Pay Votes\n",
      "Say on Pay Support Level\n",
      "Say on Pay Number of Votes FOR\n",
      "Say on Pay Number of Votes AGAINST\n",
      "Auditor Ratification\n",
      "Auditor Ratification Number of Votes - FOR\n",
      "Auditor Ratification Number of Votes - AGAINST\n",
      "Years Auditor Employed\n",
      "  Pension & Nonqual Defined Pension\n",
      "  Total Other Compensation Paid\n",
      "# of Exec Changes in Fiscal Year\n",
      "Date of Last Executive Change\n",
      "# Execs Included in Compensation\n",
      "Total Compensation Paid\n",
      "Total Salaries and Bonuses Paid\n",
      "  Total Salaries Paid\n",
      "  Total Bonuses Paid\n",
      "All Other Compensation Paid\n",
      "  Stock Awards Granted\n",
      "  Pension & Nonqual Defined Pension.1\n",
      "  Total Other Compensation Paid.1\n",
      "# of CEO and Equiv Changes in FY\n",
      "Date of Last CEO and Equiv Change\n",
      "# CEO and Equiv Included in Comp\n",
      "CEO Tenure at Fiscal Year End\n",
      "Total Comp Paid to CFO and Equiv\n",
      "Total Compensation Paid.1\n",
      "  Fees Paid in Cash\n",
      "  Stock Awards Granted.1\n",
      "# of Board Changes in Fiscal Year\n",
      "Date of Last Board Change\n",
      "# Directors Included in Comp\n"
     ]
    }
   ],
   "source": [
    "for col in ESG_DF_OG.columns:\n",
    "    print(col)"
   ]
  },
  {
   "cell_type": "code",
   "execution_count": 26,
   "id": "37bfc450",
   "metadata": {},
   "outputs": [],
   "source": [
    "#RUN\n",
    "ESG_DF = ESG_DF_OG.copy()"
   ]
  },
  {
   "cell_type": "code",
   "execution_count": null,
   "id": "41b537df",
   "metadata": {},
   "outputs": [],
   "source": [
    "[cols  for cols in ESG_DF.columns]"
   ]
  },
  {
   "cell_type": "code",
   "execution_count": null,
   "id": "b039ab0b",
   "metadata": {},
   "outputs": [],
   "source": [
    "ESG_DF.describe()"
   ]
  },
  {
   "cell_type": "code",
   "execution_count": null,
   "id": "802111b1",
   "metadata": {},
   "outputs": [],
   "source": [
    "from re import search\n",
    "for cols in esg_DF.columns:\n",
    "    if not search('Compensation',cols) == None:\n",
    "        print(cols)"
   ]
  },
  {
   "cell_type": "code",
   "execution_count": 27,
   "id": "db86d6b7",
   "metadata": {},
   "outputs": [],
   "source": [
    "#RUN\n",
    "import numpy as np\n",
    "ESG_DF = ESG_DF.replace(to_replace='—',value=np.nan)\n",
    "ESG_DF = ESG_DF.replace(to_replace='',value=np.nan)\n",
    "ESG_DF = ESG_DF.replace(to_replace='',value=np.nan)\n",
    "ESG_DF = ESG_DF.replace(to_replace='#N/A Invalid Security',value=np.nan)"
   ]
  },
  {
   "cell_type": "code",
   "execution_count": 28,
   "id": "7d79a983",
   "metadata": {},
   "outputs": [
    {
     "data": {
      "text/plain": [
       "% Suppliers Audited              1165\n",
       "Biomass Fuel Use %               1133\n",
       "Environmental Accounting Cost    1132\n",
       "ODS Emissions                    1126\n",
       "Fatalities - Third Party         1117\n",
       "                                 ... \n",
       "GICS Sector                         0\n",
       "GICS Industry Group                 0\n",
       "GICS Sub-Industry                   0\n",
       "Name                                0\n",
       "Entity                              0\n",
       "Length: 235, dtype: int64"
      ]
     },
     "execution_count": 28,
     "metadata": {},
     "output_type": "execute_result"
    }
   ],
   "source": [
    "ESG_DF.isna().sum().sort_values(ascending=False)"
   ]
  },
  {
   "cell_type": "code",
   "execution_count": 9,
   "id": "b1b5a2d4",
   "metadata": {},
   "outputs": [
    {
     "name": "stdout",
     "output_type": "stream",
     "text": [
      "Auditor Ratification Number of Votes - AGAINST    330\n",
      "Auditor Ratification Number of Votes - FOR        329\n",
      "Political Donations                               324\n",
      "Auditor Ratification                              323\n",
      "  Pension & Nonqual Defined Pension.1             321\n",
      "Frequency of Say on Pay Votes                     313\n",
      "GHG Scope 2                                       312\n",
      "Say on Pay Number of Votes AGAINST                309\n",
      "Say on Pay Support Level                          309\n",
      "Say on Pay Number of Votes FOR                    309\n",
      "dtype: int64\n"
     ]
    }
   ],
   "source": [
    "print(ESG_DF.isna().sum().sort_values(ascending=False).head(10))"
   ]
  },
  {
   "cell_type": "code",
   "execution_count": 29,
   "id": "68f41df5",
   "metadata": {},
   "outputs": [
    {
     "name": "stdout",
     "output_type": "stream",
     "text": [
      "['GHG Scope 3', 'Travel Emissions (Th Tonnes)', 'VOC Emissions', 'ODS Emissions', 'Total Energy Consumption', 'Electricity Used', 'Renewable Energy Use', 'Fuel Used - Coal/Lignite', 'Fuel Used - Natural Gas', 'Fuel Used - Oil/Diesel', 'Biomass Fuel Use %', 'Total Water Use', 'Total Water Withdrawal', 'Municipal Water Use', 'Groundwater Withdrawals', 'Surface Water Withdrawal', 'Reclaimed Water Use', 'Total Water Recycled', '% Water Recycled', 'Water Discharged', 'Chemical Oxygen Demand of Discharges', 'Total Waste', 'Hazardous Waste', 'Waste Recycled', 'Waste Sent to Landfills', 'Environmental Fines #', 'Environmental Fines $', 'Environmental Accounting Cost', 'Number of Sites', 'ISO 14001 Certified Sites', '% Sites Certified', 'Renewable Electricity Target Policy', 'Employee Turnover %', '% Women in Middle and or Other Management', '% Women in Mgt', 'Gender Pay Gap Breakout', 'Workforce Accidents', 'Lost Time from Accidents', 'Lost Time Incident Rate', 'Total Recordable Incident Rate', 'Fatalities - Total', 'Fatalities - Employees', 'Fatalities - Contractors', 'Fatalities - Third Party', 'Number of Supplier Audits Conducted', '% Suppliers Audited', 'Corporate Cash Giving', 'SDGs Target Policy', 'Age of the Youngest Director', 'Age of the Oldest Director', 'Board of Directors Age Range', 'Board Average Age', 'Executive Comp Advisory Fees Pd to Comp Adv', 'Taxes Paid to Governments', 'Years Auditor Employed', '  Total Other Compensation Paid', 'Date of Last Executive Change', '  Stock Awards Granted', '  Total Other Compensation Paid.1', 'Date of Last CEO and Equiv Change', '  Stock Awards Granted.1']\n"
     ]
    }
   ],
   "source": [
    "#RUN\n",
    "drop_cols_nans = list(ESG_DF.columns[ESG_DF.isna().sum() > round(ESG_DF.count()/2)])\n",
    "print(drop_cols_nans)"
   ]
  },
  {
   "cell_type": "code",
   "execution_count": 30,
   "id": "d29bced9",
   "metadata": {},
   "outputs": [],
   "source": [
    "#RUN\n",
    "ESG_DF = ESG_DF.drop(drop_cols_nans,axis=1).copy()"
   ]
  },
  {
   "cell_type": "code",
   "execution_count": 31,
   "id": "3327ba2d",
   "metadata": {},
   "outputs": [
    {
     "data": {
      "text/html": [
       "<div>\n",
       "<style scoped>\n",
       "    .dataframe tbody tr th:only-of-type {\n",
       "        vertical-align: middle;\n",
       "    }\n",
       "\n",
       "    .dataframe tbody tr th {\n",
       "        vertical-align: top;\n",
       "    }\n",
       "\n",
       "    .dataframe thead th {\n",
       "        text-align: right;\n",
       "    }\n",
       "</style>\n",
       "<table border=\"1\" class=\"dataframe\">\n",
       "  <thead>\n",
       "    <tr style=\"text-align: right;\">\n",
       "      <th></th>\n",
       "      <th>Entity</th>\n",
       "      <th>Name</th>\n",
       "      <th>Year</th>\n",
       "      <th>MSCI Rating</th>\n",
       "      <th>MSCI Environment Score</th>\n",
       "      <th>MSCI Social</th>\n",
       "      <th>MSCI Goverance</th>\n",
       "      <th>Entenched board</th>\n",
       "      <th>Related Party Transactions</th>\n",
       "      <th>Secuities Fraud</th>\n",
       "      <th>...</th>\n",
       "      <th>Pension &amp; Nonqual Defined Pension.1</th>\n",
       "      <th># of CEO and Equiv Changes in FY</th>\n",
       "      <th># CEO and Equiv Included in Comp</th>\n",
       "      <th>CEO Tenure at Fiscal Year End</th>\n",
       "      <th>Total Comp Paid to CFO and Equiv</th>\n",
       "      <th>Total Compensation Paid.1</th>\n",
       "      <th>Fees Paid in Cash</th>\n",
       "      <th># of Board Changes in Fiscal Year</th>\n",
       "      <th>Date of Last Board Change</th>\n",
       "      <th># Directors Included in Comp</th>\n",
       "    </tr>\n",
       "  </thead>\n",
       "  <tbody>\n",
       "    <tr>\n",
       "      <th>0</th>\n",
       "      <td>002BS2-E</td>\n",
       "      <td>3i Group plc</td>\n",
       "      <td>2008</td>\n",
       "      <td>AAA</td>\n",
       "      <td>7.14</td>\n",
       "      <td>7.26</td>\n",
       "      <td>8.27</td>\n",
       "      <td>0</td>\n",
       "      <td>0</td>\n",
       "      <td>0</td>\n",
       "      <td>...</td>\n",
       "      <td>NaN</td>\n",
       "      <td>0.00</td>\n",
       "      <td>1.00</td>\n",
       "      <td>3.75</td>\n",
       "      <td>1311000.00</td>\n",
       "      <td>719000.00</td>\n",
       "      <td>719000.00</td>\n",
       "      <td>2.00</td>\n",
       "      <td>20070723.00</td>\n",
       "      <td>8.00</td>\n",
       "    </tr>\n",
       "    <tr>\n",
       "      <th>1</th>\n",
       "      <td>002BS2-E</td>\n",
       "      <td>3i Group plc</td>\n",
       "      <td>2009</td>\n",
       "      <td>AA</td>\n",
       "      <td>6.78</td>\n",
       "      <td>7.73</td>\n",
       "      <td>6.07</td>\n",
       "      <td>0</td>\n",
       "      <td>0</td>\n",
       "      <td>0</td>\n",
       "      <td>...</td>\n",
       "      <td>NaN</td>\n",
       "      <td>1.00</td>\n",
       "      <td>2.00</td>\n",
       "      <td>0.25</td>\n",
       "      <td>774000.00</td>\n",
       "      <td>714000.00</td>\n",
       "      <td>714000.00</td>\n",
       "      <td>2.00</td>\n",
       "      <td>20080901.00</td>\n",
       "      <td>8.00</td>\n",
       "    </tr>\n",
       "    <tr>\n",
       "      <th>2</th>\n",
       "      <td>002BS2-E</td>\n",
       "      <td>3i Group plc</td>\n",
       "      <td>2010</td>\n",
       "      <td>BBB</td>\n",
       "      <td>4.89</td>\n",
       "      <td>4.94</td>\n",
       "      <td>5.05</td>\n",
       "      <td>0</td>\n",
       "      <td>0</td>\n",
       "      <td>0</td>\n",
       "      <td>...</td>\n",
       "      <td>NaN</td>\n",
       "      <td>0.00</td>\n",
       "      <td>1.00</td>\n",
       "      <td>1.25</td>\n",
       "      <td>293000.00</td>\n",
       "      <td>717000.00</td>\n",
       "      <td>717000.00</td>\n",
       "      <td>1.00</td>\n",
       "      <td>20091001.00</td>\n",
       "      <td>9.00</td>\n",
       "    </tr>\n",
       "    <tr>\n",
       "      <th>3</th>\n",
       "      <td>002BS2-E</td>\n",
       "      <td>3i Group plc</td>\n",
       "      <td>2011</td>\n",
       "      <td>A</td>\n",
       "      <td>4.46</td>\n",
       "      <td>7.01</td>\n",
       "      <td>5.22</td>\n",
       "      <td>0</td>\n",
       "      <td>0</td>\n",
       "      <td>0</td>\n",
       "      <td>...</td>\n",
       "      <td>NaN</td>\n",
       "      <td>0.00</td>\n",
       "      <td>1.00</td>\n",
       "      <td>2.25</td>\n",
       "      <td>802000.00</td>\n",
       "      <td>714000.00</td>\n",
       "      <td>714000.00</td>\n",
       "      <td>4.00</td>\n",
       "      <td>20110307.00</td>\n",
       "      <td>9.00</td>\n",
       "    </tr>\n",
       "    <tr>\n",
       "      <th>4</th>\n",
       "      <td>002BS2-E</td>\n",
       "      <td>3i Group plc</td>\n",
       "      <td>2012</td>\n",
       "      <td>AA</td>\n",
       "      <td>4.50</td>\n",
       "      <td>6.40</td>\n",
       "      <td>10.00</td>\n",
       "      <td>0</td>\n",
       "      <td>0</td>\n",
       "      <td>0</td>\n",
       "      <td>...</td>\n",
       "      <td>88000.00</td>\n",
       "      <td>0.00</td>\n",
       "      <td>1.00</td>\n",
       "      <td>3.25</td>\n",
       "      <td>732000.00</td>\n",
       "      <td>635000.00</td>\n",
       "      <td>635000.00</td>\n",
       "      <td>2.00</td>\n",
       "      <td>20120101.00</td>\n",
       "      <td>8.00</td>\n",
       "    </tr>\n",
       "  </tbody>\n",
       "</table>\n",
       "<p>5 rows × 174 columns</p>\n",
       "</div>"
      ],
      "text/plain": [
       "     Entity          Name  Year MSCI Rating  MSCI Environment Score  \\\n",
       "0  002BS2-E  3i Group plc  2008         AAA                    7.14   \n",
       "1  002BS2-E  3i Group plc  2009          AA                    6.78   \n",
       "2  002BS2-E  3i Group plc  2010         BBB                    4.89   \n",
       "3  002BS2-E  3i Group plc  2011           A                    4.46   \n",
       "4  002BS2-E  3i Group plc  2012          AA                    4.50   \n",
       "\n",
       "   MSCI Social  MSCI Goverance  Entenched board  Related Party Transactions  \\\n",
       "0         7.26            8.27                0                           0   \n",
       "1         7.73            6.07                0                           0   \n",
       "2         4.94            5.05                0                           0   \n",
       "3         7.01            5.22                0                           0   \n",
       "4         6.40           10.00                0                           0   \n",
       "\n",
       "   Secuities Fraud  ...    Pension & Nonqual Defined Pension.1  \\\n",
       "0                0  ...                                    NaN   \n",
       "1                0  ...                                    NaN   \n",
       "2                0  ...                                    NaN   \n",
       "3                0  ...                                    NaN   \n",
       "4                0  ...                               88000.00   \n",
       "\n",
       "   # of CEO and Equiv Changes in FY  # CEO and Equiv Included in Comp  \\\n",
       "0                              0.00                              1.00   \n",
       "1                              1.00                              2.00   \n",
       "2                              0.00                              1.00   \n",
       "3                              0.00                              1.00   \n",
       "4                              0.00                              1.00   \n",
       "\n",
       "   CEO Tenure at Fiscal Year End  Total Comp Paid to CFO and Equiv  \\\n",
       "0                           3.75                        1311000.00   \n",
       "1                           0.25                         774000.00   \n",
       "2                           1.25                         293000.00   \n",
       "3                           2.25                         802000.00   \n",
       "4                           3.25                         732000.00   \n",
       "\n",
       "   Total Compensation Paid.1    Fees Paid in Cash  \\\n",
       "0                  719000.00            719000.00   \n",
       "1                  714000.00            714000.00   \n",
       "2                  717000.00            717000.00   \n",
       "3                  714000.00            714000.00   \n",
       "4                  635000.00            635000.00   \n",
       "\n",
       "   # of Board Changes in Fiscal Year Date of Last Board Change  \\\n",
       "0                               2.00               20070723.00   \n",
       "1                               2.00               20080901.00   \n",
       "2                               1.00               20091001.00   \n",
       "3                               4.00               20110307.00   \n",
       "4                               2.00               20120101.00   \n",
       "\n",
       "   # Directors Included in Comp  \n",
       "0                          8.00  \n",
       "1                          8.00  \n",
       "2                          9.00  \n",
       "3                          9.00  \n",
       "4                          8.00  \n",
       "\n",
       "[5 rows x 174 columns]"
      ]
     },
     "execution_count": 31,
     "metadata": {},
     "output_type": "execute_result"
    }
   ],
   "source": [
    "ESG_DF.head(5)"
   ]
  },
  {
   "cell_type": "code",
   "execution_count": null,
   "id": "c84024af",
   "metadata": {},
   "outputs": [],
   "source": [
    "#DROPPING HIGHLY CORRELATED FEATURES"
   ]
  },
  {
   "cell_type": "code",
   "execution_count": null,
   "id": "358b436f",
   "metadata": {},
   "outputs": [],
   "source": [
    "print(ESG_DF.nunique().sort_values(ascending=True).head(100))"
   ]
  },
  {
   "cell_type": "markdown",
   "id": "8916774a",
   "metadata": {},
   "source": [
    "Testing how to best ordinal encode with Nans in the Series:"
   ]
  },
  {
   "cell_type": "code",
   "execution_count": null,
   "id": "e2485dc5",
   "metadata": {},
   "outputs": [],
   "source": [
    "ESG_DF['% Suppliers Audited'].isna()"
   ]
  },
  {
   "cell_type": "code",
   "execution_count": null,
   "id": "1cbc6f5c",
   "metadata": {},
   "outputs": [],
   "source": [
    "ESG_DF['% Suppliers Audited'][ESG_DF['% Suppliers Audited']== '#N/A Invalid Security']= np.nan"
   ]
  },
  {
   "cell_type": "code",
   "execution_count": null,
   "id": "f66c8d23",
   "metadata": {},
   "outputs": [],
   "source": [
    "ESG_DF['% Suppliers Audited'] = pd.to_numeric(ESG_DF['% Suppliers Audited'],errors='raise')"
   ]
  },
  {
   "cell_type": "markdown",
   "id": "1c6c2c25",
   "metadata": {},
   "source": [
    "Okay we can work with MSCI rating in temp series"
   ]
  },
  {
   "cell_type": "code",
   "execution_count": null,
   "id": "c8746462",
   "metadata": {},
   "outputs": [],
   "source": [
    "temp = ESG_DF['MSCI Rating'][ESG_DF['MSCI Rating'].isna()== False]"
   ]
  },
  {
   "cell_type": "code",
   "execution_count": null,
   "id": "f2971719",
   "metadata": {},
   "outputs": [],
   "source": [
    "temp1 = ESG_DF['MSCI Rating'][ESG_DF['MSCI Rating'].isna() == True]"
   ]
  },
  {
   "cell_type": "code",
   "execution_count": null,
   "id": "e778f9c8",
   "metadata": {},
   "outputs": [],
   "source": [
    "temp2 = ESG_DF['MSCI Rating'][ESG_DF['MSCI Rating'].isna() == False]"
   ]
  },
  {
   "cell_type": "code",
   "execution_count": null,
   "id": "5798c715",
   "metadata": {},
   "outputs": [],
   "source": [
    "pd.concat([temp1,temp2],ignore_index=False).sort_index()"
   ]
  },
  {
   "cell_type": "code",
   "execution_count": 32,
   "id": "472cbf49",
   "metadata": {
    "scrolled": true
   },
   "outputs": [
    {
     "name": "stdout",
     "output_type": "stream",
     "text": [
      "159 15\n"
     ]
    },
    {
     "name": "stderr",
     "output_type": "stream",
     "text": [
      "<ipython-input-32-8d7aa685d3f4>:24: FutureWarning: Index.ravel returning ndarray is deprecated; in a future version this will return a view on self.\n",
      "  temp2 = pd.Series(data=result.ravel(),index=index_temp.ravel())\n",
      "<ipython-input-32-8d7aa685d3f4>:24: FutureWarning: Index.ravel returning ndarray is deprecated; in a future version this will return a view on self.\n",
      "  temp2 = pd.Series(data=result.ravel(),index=index_temp.ravel())\n",
      "<ipython-input-32-8d7aa685d3f4>:24: FutureWarning: Index.ravel returning ndarray is deprecated; in a future version this will return a view on self.\n",
      "  temp2 = pd.Series(data=result.ravel(),index=index_temp.ravel())\n",
      "<ipython-input-32-8d7aa685d3f4>:24: FutureWarning: Index.ravel returning ndarray is deprecated; in a future version this will return a view on self.\n",
      "  temp2 = pd.Series(data=result.ravel(),index=index_temp.ravel())\n",
      "<ipython-input-32-8d7aa685d3f4>:24: FutureWarning: Index.ravel returning ndarray is deprecated; in a future version this will return a view on self.\n",
      "  temp2 = pd.Series(data=result.ravel(),index=index_temp.ravel())\n",
      "<ipython-input-32-8d7aa685d3f4>:24: FutureWarning: Index.ravel returning ndarray is deprecated; in a future version this will return a view on self.\n",
      "  temp2 = pd.Series(data=result.ravel(),index=index_temp.ravel())\n",
      "<ipython-input-32-8d7aa685d3f4>:24: FutureWarning: Index.ravel returning ndarray is deprecated; in a future version this will return a view on self.\n",
      "  temp2 = pd.Series(data=result.ravel(),index=index_temp.ravel())\n",
      "<ipython-input-32-8d7aa685d3f4>:24: FutureWarning: Index.ravel returning ndarray is deprecated; in a future version this will return a view on self.\n",
      "  temp2 = pd.Series(data=result.ravel(),index=index_temp.ravel())\n",
      "<ipython-input-32-8d7aa685d3f4>:24: FutureWarning: Index.ravel returning ndarray is deprecated; in a future version this will return a view on self.\n",
      "  temp2 = pd.Series(data=result.ravel(),index=index_temp.ravel())\n",
      "<ipython-input-32-8d7aa685d3f4>:24: FutureWarning: Index.ravel returning ndarray is deprecated; in a future version this will return a view on self.\n",
      "  temp2 = pd.Series(data=result.ravel(),index=index_temp.ravel())\n",
      "<ipython-input-32-8d7aa685d3f4>:24: FutureWarning: Index.ravel returning ndarray is deprecated; in a future version this will return a view on self.\n",
      "  temp2 = pd.Series(data=result.ravel(),index=index_temp.ravel())\n",
      "<ipython-input-32-8d7aa685d3f4>:24: FutureWarning: Index.ravel returning ndarray is deprecated; in a future version this will return a view on self.\n",
      "  temp2 = pd.Series(data=result.ravel(),index=index_temp.ravel())\n",
      "<ipython-input-32-8d7aa685d3f4>:24: FutureWarning: Index.ravel returning ndarray is deprecated; in a future version this will return a view on self.\n",
      "  temp2 = pd.Series(data=result.ravel(),index=index_temp.ravel())\n",
      "<ipython-input-32-8d7aa685d3f4>:24: FutureWarning: Index.ravel returning ndarray is deprecated; in a future version this will return a view on self.\n",
      "  temp2 = pd.Series(data=result.ravel(),index=index_temp.ravel())\n",
      "<ipython-input-32-8d7aa685d3f4>:24: FutureWarning: Index.ravel returning ndarray is deprecated; in a future version this will return a view on self.\n",
      "  temp2 = pd.Series(data=result.ravel(),index=index_temp.ravel())\n"
     ]
    }
   ],
   "source": [
    "new_DF = ESG_DF.copy()\n",
    "from sklearn.preprocessing import OrdinalEncoder\n",
    "\n",
    "num_ordinal   = 0\n",
    "num_numerical = 0\n",
    "\n",
    "encoder_dict = {}\n",
    "\n",
    "for col in ESG_DF.columns:\n",
    "    try:\n",
    "        out = pd.to_numeric(ESG_DF[col],errors='raise')\n",
    "        new_DF[col] = out \n",
    "        num_numerical+=1\n",
    "    except:\n",
    "        \n",
    "        temp1 = ESG_DF[col][ESG_DF[col].isna() == True]\n",
    "        temp2 = ESG_DF[col][ESG_DF[col].isna() == False]\n",
    "        \n",
    "        encoder_dict[col] = OrdinalEncoder()\n",
    "        \n",
    "        index_temp = temp2.index\n",
    "        \n",
    "        result = encoder_dict[col].fit_transform(temp2.to_numpy().reshape(-1, 1))\n",
    "        temp2 = pd.Series(data=result.ravel(),index=index_temp.ravel())\n",
    "        \n",
    "        \n",
    "        ord_col_with_nans = pd.concat([temp1,temp2],ignore_index=False).sort_index()\n",
    "        new_DF[col]       = ord_col_with_nans\n",
    "        \n",
    "        num_ordinal+=1\n",
    "\n",
    "print(num_numerical,num_ordinal)"
   ]
  },
  {
   "cell_type": "code",
   "execution_count": 51,
   "id": "a7b28700",
   "metadata": {},
   "outputs": [
    {
     "data": {
      "text/plain": [
       "20726"
      ]
     },
     "execution_count": 51,
     "metadata": {},
     "output_type": "execute_result"
    }
   ],
   "source": [
    "new_DF.isna().sum().sort_values(ascending=False).sum()"
   ]
  },
  {
   "cell_type": "markdown",
   "id": "4323f334",
   "metadata": {},
   "source": [
    "We have ~21k missing values of a total of ~204k total missing values"
   ]
  },
  {
   "cell_type": "code",
   "execution_count": 60,
   "id": "67c80e0d",
   "metadata": {},
   "outputs": [],
   "source": [
    "def logloss(yhat, y):\n",
    "    return -1*(y*np.log(yhat) + (1-y)*np.log(1-yhat))"
   ]
  },
  {
   "cell_type": "code",
   "execution_count": 65,
   "id": "09056da8",
   "metadata": {},
   "outputs": [
    {
     "name": "stdout",
     "output_type": "stream",
     "text": [
      "[[0.1 0.5]\n",
      " [0.1 0.4]]\n",
      "[[0.1 0.5]\n",
      " [0.1 0.4]]\n",
      "[[0.32508297 0.69314718]\n",
      " [0.32508297 0.67301167]]\n"
     ]
    },
    {
     "data": {
      "text/plain": [
       "array([[-2.30258509, -0.69314718],\n",
       "       [-2.30258509, -0.91629073]])"
      ]
     },
     "execution_count": 65,
     "metadata": {},
     "output_type": "execute_result"
    }
   ],
   "source": [
    "x =np.array([[0.1,0.5],[0.1,0.4]])\n",
    "y =np.array([[0.1,0.5],[0.1,0.4]])\n",
    "print(x)\n",
    "print(y)\n",
    "print(logloss(x,y))\n",
    "np.log(x)"
   ]
  },
  {
   "cell_type": "markdown",
   "id": "7ff349c2",
   "metadata": {},
   "source": [
    "    "
   ]
  },
  {
   "cell_type": "markdown",
   "id": "0cd5f371",
   "metadata": {},
   "source": [
    " \n",
    "  \n",
    "   \n",
    "    \n",
    "     \n",
    "      \n",
    "      \n",
    "       \n",
    "        \n",
    "         \n",
    "          \n",
    "           \n",
    "           \n",
    "            \n",
    "             \n",
    "              \n",
    "               \n",
    "\n",
    "\n",
    "\n",
    "\n",
    "\n",
    "\n",
    "\n",
    "\n",
    "\n",
    "\n",
    "\n"
   ]
  },
  {
   "cell_type": "markdown",
   "id": "06d95058",
   "metadata": {},
   "source": [
    "checking our hash table has correctly stored the decoder for each catagorical feature!"
   ]
  },
  {
   "cell_type": "code",
   "execution_count": 33,
   "id": "94141039",
   "metadata": {},
   "outputs": [
    {
     "data": {
      "text/plain": [
       "[array(['A', 'AA', 'AAA', 'B', 'BB', 'BBB', 'CCC'], dtype=object)]"
      ]
     },
     "execution_count": 33,
     "metadata": {},
     "output_type": "execute_result"
    }
   ],
   "source": [
    "[val for val in encoder_dict['MSCI Rating'].categories_]"
   ]
  },
  {
   "cell_type": "code",
   "execution_count": 37,
   "id": "bb00a16e",
   "metadata": {},
   "outputs": [
    {
     "name": "stdout",
     "output_type": "stream",
     "text": [
      "0    2.0\n",
      "1    1.0\n",
      "2    5.0\n",
      "3    0.0\n",
      "4    1.0\n",
      "5    2.0\n",
      "6    1.0\n",
      "7    1.0\n",
      "8    1.0\n",
      "9    1.0\n",
      "Name: MSCI Rating, dtype: object\n"
     ]
    },
    {
     "data": {
      "text/plain": [
       "87"
      ]
     },
     "execution_count": 37,
     "metadata": {},
     "output_type": "execute_result"
    }
   ],
   "source": [
    "print(new_DF['MSCI Rating'].head(10))\n",
    "new_DF['MSCI Rating'].isna().sum()"
   ]
  },
  {
   "cell_type": "markdown",
   "id": "10561fb0",
   "metadata": {},
   "source": [
    "Looks good!"
   ]
  },
  {
   "cell_type": "code",
   "execution_count": null,
   "id": "be6272c5",
   "metadata": {},
   "outputs": [],
   "source": [
    "new_DF['Company'] = ESG_DF_OG['Name']"
   ]
  },
  {
   "cell_type": "code",
   "execution_count": null,
   "id": "2c77e46b",
   "metadata": {},
   "outputs": [],
   "source": [
    "new_DF['Company']"
   ]
  },
  {
   "cell_type": "code",
   "execution_count": null,
   "id": "ad06bd36",
   "metadata": {},
   "outputs": [],
   "source": [
    "# NEED TO RUN \n",
    "new_DF['Date of Last Board Change'] = pd.to_datetime(new_DF['Date of Last Board Change'], format='%Y%m%d', errors='coerce')\n",
    "new_DF['Date of Last CEO and Equiv Change'] = pd.to_datetime(new_DF['Date of Last CEO and Equiv Change'], format='%Y%m%d', errors='coerce')\n",
    "new_DF['Date of Last Executive Change'] = pd.to_datetime(new_DF['Date of Last Executive Change'], format='%Y%m%d', errors='coerce')\n",
    "print(new_DF[['Date of Last Board Change','Date of Last CEO and Equiv Change','Date of Last Executive Change']].head(5))"
   ]
  },
  {
   "cell_type": "code",
   "execution_count": null,
   "id": "69b0845d",
   "metadata": {},
   "outputs": [],
   "source": [
    "ratings = encoder_dict['MSCI Rating'].inverse_transform(new_DF['MSCI Rating'][new_DF['Year']==2019].fillna(value=0).to_numpy().reshape(-1, 1))\n",
    "plt.figure(figsize=(20,5))\n",
    "plt.bar(x=new_DF['Company'][new_DF['Year']==2019],height=ratings)\n",
    "plt.ylabel()\n",
    "plt.xticks(rotation=90)\n",
    "plt.show()"
   ]
  },
  {
   "cell_type": "code",
   "execution_count": null,
   "id": "b5b39bd5",
   "metadata": {},
   "outputs": [],
   "source": [
    "plt.hist(ratings)\n",
    "plt.show()"
   ]
  },
  {
   "cell_type": "markdown",
   "id": "fc770ee8",
   "metadata": {},
   "source": [
    "### We now have all numerical data but we have Nans in the data set... we now need to impute values using K-means or another method\n",
    "\n",
    "1. Use the Sklearn imbalance mask to create an array of where we have missing values\n",
    "2. Impute the missing values using KNN\n",
    "3. We cant use Nan values in our Modelling so we need to have imputed all missing values prior to modelling "
   ]
  },
  {
   "cell_type": "code",
   "execution_count": null,
   "id": "6ca1e019",
   "metadata": {},
   "outputs": [],
   "source": [
    "from sklearn.impute import KNNImputer \n",
    "dropped_dates = new_DF.loc[:,new_DF.columns.isin(['Date of Last Board Change','Date of Last CEO and Equiv Change','Date of Last Executive Change'])]\n",
    "#dropped=new_DF.drop(new_DF.columns.difference(['Date of Last Board Change','Date of Last CEO and Equiv Change','Date of Last Executive Change']), 1, inplace=True)\n",
    "df = new_DF.drop(['Date of Last Board Change','Date of Last CEO and Equiv Change','Date of Last Executive Change'],axis=1)\n",
    "imputer = KNNImputer(n_neighbors=5)\n",
    "imputer.fit(df)\n",
    "df_out = imputer.transform(df)"
   ]
  },
  {
   "cell_type": "code",
   "execution_count": null,
   "id": "3aa473f7",
   "metadata": {},
   "outputs": [],
   "source": [
    "df_out.shape"
   ]
  },
  {
   "cell_type": "code",
   "execution_count": null,
   "id": "41658187",
   "metadata": {},
   "outputs": [],
   "source": [
    "df.shape"
   ]
  },
  {
   "cell_type": "code",
   "execution_count": null,
   "id": "d9199e33",
   "metadata": {},
   "outputs": [],
   "source": [
    "df_fin = pd.DataFrame(data=df_out,columns=df.columns)"
   ]
  },
  {
   "cell_type": "markdown",
   "id": "6ad51123",
   "metadata": {},
   "source": [
    "### MAKING METADATA:"
   ]
  },
  {
   "cell_type": "code",
   "execution_count": null,
   "id": "ab20a1cf",
   "metadata": {},
   "outputs": [],
   "source": [
    "metadata = pd.DataFrame(data=np.array([np.nan]*232).reshape(1,232),columns=df_fin.columns)\n",
    "for col in df_fin.columns:\n",
    "    print(col,len(df_fin[col].unique()))\n",
    "    \n",
    "    if len(df_fin[col].unique()) < 50:\n",
    "        metadata[col] = 'cat'\n",
    "    else:\n",
    "        metadata[col] = 'num'"
   ]
  },
  {
   "cell_type": "code",
   "execution_count": null,
   "id": "07440251",
   "metadata": {},
   "outputs": [],
   "source": [
    "#metadata.to_excel(\"metadata.xlsx\",\n",
    "#            sheet_name='Sheet_name_1')  "
   ]
  },
  {
   "cell_type": "code",
   "execution_count": null,
   "id": "a404ea39",
   "metadata": {},
   "outputs": [],
   "source": [
    "metadata = pd.read_excel(\"metadata.xlsx\")"
   ]
  },
  {
   "cell_type": "code",
   "execution_count": null,
   "id": "b66c7c47",
   "metadata": {},
   "outputs": [],
   "source": [
    "metadata = metadata.drop('Unnamed: 0',axis=1)"
   ]
  },
  {
   "cell_type": "code",
   "execution_count": null,
   "id": "05fc8397",
   "metadata": {},
   "outputs": [],
   "source": [
    "metadata"
   ]
  },
  {
   "cell_type": "code",
   "execution_count": null,
   "id": "d8b16978",
   "metadata": {},
   "outputs": [],
   "source": [
    "df_fin['MSCI Rating'].astype('int64')"
   ]
  },
  {
   "cell_type": "code",
   "execution_count": null,
   "id": "83913ecd",
   "metadata": {},
   "outputs": [],
   "source": [
    "df_fin['Freefloat'].astype('float64')"
   ]
  },
  {
   "cell_type": "markdown",
   "id": "7602deb4",
   "metadata": {},
   "source": [
    "Changing Values to INT if they catagorical, and FLOAT if they numerical based on extracted metadata:"
   ]
  },
  {
   "cell_type": "code",
   "execution_count": null,
   "id": "a11a6a86",
   "metadata": {},
   "outputs": [],
   "source": [
    "for col in df_fin.columns:\n",
    "    if metadata[col].item() == 'cat':\n",
    "        df_fin[col] = df_fin[col].astype('int64')\n",
    "    if metadata[col].item() == 'num':\n",
    "        df_fin[col] = df_fin[col].astype('float64')"
   ]
  },
  {
   "cell_type": "code",
   "execution_count": null,
   "id": "ebfc74f5",
   "metadata": {},
   "outputs": [],
   "source": [
    "df_fin "
   ]
  },
  {
   "cell_type": "code",
   "execution_count": null,
   "id": "15a2c75a",
   "metadata": {},
   "outputs": [],
   "source": [
    "df_array = df_fin.to_numpy()"
   ]
  },
  {
   "cell_type": "code",
   "execution_count": null,
   "id": "62ab6d10",
   "metadata": {},
   "outputs": [],
   "source": [
    "from sklearn.preprocessing import MinMaxScaler\n",
    "scaler = MinMaxScaler()\n",
    "scaler.fit(df_array)\n",
    "df_array_scaled = scaler.transform(df_array)"
   ]
  },
  {
   "cell_type": "code",
   "execution_count": null,
   "id": "db866a19",
   "metadata": {},
   "outputs": [],
   "source": [
    "df_fin_scaled = pd.DataFrame(data=df_array_scaled,columns=df_fin.columns)"
   ]
  },
  {
   "cell_type": "code",
   "execution_count": null,
   "id": "4ee7ea18",
   "metadata": {},
   "outputs": [],
   "source": [
    "df_fin_scaled.tail(5)"
   ]
  },
  {
   "cell_type": "markdown",
   "id": "27a2c87c",
   "metadata": {},
   "source": [
    "Now we need to output the 1) dataframe (CSV) 2) Encoders (PICKLE) and 3) Minmax scalers (PICKLE)"
   ]
  },
  {
   "cell_type": "code",
   "execution_count": null,
   "id": "88af44d7",
   "metadata": {},
   "outputs": [],
   "source": [
    "import pickle\n",
    "# Store data (serialize)\n",
    "with open('data/cat_encodrs.pickle', 'wb') as handle:\n",
    "    pickle.dump(encoder_dict, handle, protocol=pickle.HIGHEST_PROTOCOL)"
   ]
  },
  {
   "cell_type": "code",
   "execution_count": null,
   "id": "9dd31de2",
   "metadata": {},
   "outputs": [],
   "source": [
    "with open('data/minmax_scaler.pickle', 'wb') as handle:\n",
    "    pickle.dump(scaler, handle, protocol=pickle.HIGHEST_PROTOCOL)"
   ]
  },
  {
   "cell_type": "code",
   "execution_count": null,
   "id": "737e4279",
   "metadata": {},
   "outputs": [],
   "source": [
    "# Load data (deserialize)\n",
    "#with open('filename.pickle', 'rb') as handle:\n",
    "#    unserialized_data = pickle.load(handle)\n"
   ]
  },
  {
   "cell_type": "code",
   "execution_count": null,
   "id": "06f497ca",
   "metadata": {},
   "outputs": [],
   "source": [
    "df_fin_scaled.to_csv('data/esg_data_scaled')"
   ]
  },
  {
   "cell_type": "code",
   "execution_count": null,
   "id": "ec20f11a",
   "metadata": {},
   "outputs": [],
   "source": []
  }
 ],
 "metadata": {
  "kernelspec": {
   "display_name": "Python 3",
   "language": "python",
   "name": "python3"
  },
  "language_info": {
   "codemirror_mode": {
    "name": "ipython",
    "version": 3
   },
   "file_extension": ".py",
   "mimetype": "text/x-python",
   "name": "python",
   "nbconvert_exporter": "python",
   "pygments_lexer": "ipython3",
   "version": "3.8.10"
  }
 },
 "nbformat": 4,
 "nbformat_minor": 5
}
