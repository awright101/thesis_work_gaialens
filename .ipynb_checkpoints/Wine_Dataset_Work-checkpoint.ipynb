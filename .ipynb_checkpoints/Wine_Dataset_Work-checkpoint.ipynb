{
 "cells": [
  {
   "cell_type": "code",
   "execution_count": 1,
   "id": "28c561c9",
   "metadata": {},
   "outputs": [],
   "source": [
    "import pandas as pd\n",
    "import numpy as np\n",
    "import matplotlib as mpl"
   ]
  },
  {
   "cell_type": "code",
   "execution_count": 2,
   "id": "2ac5fbb0",
   "metadata": {},
   "outputs": [
    {
     "data": {
      "text/html": [
       "<div>\n",
       "<style scoped>\n",
       "    .dataframe tbody tr th:only-of-type {\n",
       "        vertical-align: middle;\n",
       "    }\n",
       "\n",
       "    .dataframe tbody tr th {\n",
       "        vertical-align: top;\n",
       "    }\n",
       "\n",
       "    .dataframe thead th {\n",
       "        text-align: right;\n",
       "    }\n",
       "</style>\n",
       "<table border=\"1\" class=\"dataframe\">\n",
       "  <thead>\n",
       "    <tr style=\"text-align: right;\">\n",
       "      <th></th>\n",
       "      <th>fixed_acidity</th>\n",
       "      <th>volatile_acidity</th>\n",
       "      <th>citric_acid</th>\n",
       "      <th>residual_sugar</th>\n",
       "      <th>chlorides</th>\n",
       "      <th>free_sulfur_dioxide</th>\n",
       "      <th>total_sulfur_dioxide</th>\n",
       "      <th>density</th>\n",
       "      <th>pH</th>\n",
       "      <th>sulphates</th>\n",
       "      <th>alcohol</th>\n",
       "      <th>quality</th>\n",
       "      <th>wine_type</th>\n",
       "    </tr>\n",
       "  </thead>\n",
       "  <tbody>\n",
       "    <tr>\n",
       "      <th>0</th>\n",
       "      <td>7.0</td>\n",
       "      <td>0.270</td>\n",
       "      <td>0.36</td>\n",
       "      <td>20.7</td>\n",
       "      <td>0.045</td>\n",
       "      <td>45.0</td>\n",
       "      <td>170.0</td>\n",
       "      <td>1.00100</td>\n",
       "      <td>3.00</td>\n",
       "      <td>0.45</td>\n",
       "      <td>8.8</td>\n",
       "      <td>6</td>\n",
       "      <td>2</td>\n",
       "    </tr>\n",
       "    <tr>\n",
       "      <th>1</th>\n",
       "      <td>6.3</td>\n",
       "      <td>0.300</td>\n",
       "      <td>0.34</td>\n",
       "      <td>1.6</td>\n",
       "      <td>0.049</td>\n",
       "      <td>14.0</td>\n",
       "      <td>132.0</td>\n",
       "      <td>0.99400</td>\n",
       "      <td>3.30</td>\n",
       "      <td>0.49</td>\n",
       "      <td>9.5</td>\n",
       "      <td>6</td>\n",
       "      <td>2</td>\n",
       "    </tr>\n",
       "    <tr>\n",
       "      <th>2</th>\n",
       "      <td>8.1</td>\n",
       "      <td>0.280</td>\n",
       "      <td>0.40</td>\n",
       "      <td>6.9</td>\n",
       "      <td>0.050</td>\n",
       "      <td>30.0</td>\n",
       "      <td>97.0</td>\n",
       "      <td>0.99510</td>\n",
       "      <td>3.26</td>\n",
       "      <td>0.44</td>\n",
       "      <td>10.1</td>\n",
       "      <td>6</td>\n",
       "      <td>2</td>\n",
       "    </tr>\n",
       "    <tr>\n",
       "      <th>3</th>\n",
       "      <td>7.2</td>\n",
       "      <td>0.230</td>\n",
       "      <td>0.32</td>\n",
       "      <td>8.5</td>\n",
       "      <td>0.058</td>\n",
       "      <td>47.0</td>\n",
       "      <td>186.0</td>\n",
       "      <td>0.99560</td>\n",
       "      <td>3.19</td>\n",
       "      <td>0.40</td>\n",
       "      <td>9.9</td>\n",
       "      <td>6</td>\n",
       "      <td>2</td>\n",
       "    </tr>\n",
       "    <tr>\n",
       "      <th>4</th>\n",
       "      <td>7.2</td>\n",
       "      <td>0.230</td>\n",
       "      <td>0.32</td>\n",
       "      <td>8.5</td>\n",
       "      <td>0.058</td>\n",
       "      <td>47.0</td>\n",
       "      <td>186.0</td>\n",
       "      <td>0.99560</td>\n",
       "      <td>3.19</td>\n",
       "      <td>0.40</td>\n",
       "      <td>9.9</td>\n",
       "      <td>6</td>\n",
       "      <td>2</td>\n",
       "    </tr>\n",
       "    <tr>\n",
       "      <th>...</th>\n",
       "      <td>...</td>\n",
       "      <td>...</td>\n",
       "      <td>...</td>\n",
       "      <td>...</td>\n",
       "      <td>...</td>\n",
       "      <td>...</td>\n",
       "      <td>...</td>\n",
       "      <td>...</td>\n",
       "      <td>...</td>\n",
       "      <td>...</td>\n",
       "      <td>...</td>\n",
       "      <td>...</td>\n",
       "      <td>...</td>\n",
       "    </tr>\n",
       "    <tr>\n",
       "      <th>6492</th>\n",
       "      <td>6.2</td>\n",
       "      <td>0.600</td>\n",
       "      <td>0.08</td>\n",
       "      <td>2.0</td>\n",
       "      <td>0.090</td>\n",
       "      <td>32.0</td>\n",
       "      <td>44.0</td>\n",
       "      <td>0.99490</td>\n",
       "      <td>3.45</td>\n",
       "      <td>0.58</td>\n",
       "      <td>10.5</td>\n",
       "      <td>5</td>\n",
       "      <td>1</td>\n",
       "    </tr>\n",
       "    <tr>\n",
       "      <th>6493</th>\n",
       "      <td>5.9</td>\n",
       "      <td>0.550</td>\n",
       "      <td>0.10</td>\n",
       "      <td>2.2</td>\n",
       "      <td>0.062</td>\n",
       "      <td>39.0</td>\n",
       "      <td>51.0</td>\n",
       "      <td>0.99512</td>\n",
       "      <td>3.52</td>\n",
       "      <td>0.76</td>\n",
       "      <td>11.2</td>\n",
       "      <td>6</td>\n",
       "      <td>1</td>\n",
       "    </tr>\n",
       "    <tr>\n",
       "      <th>6494</th>\n",
       "      <td>6.3</td>\n",
       "      <td>0.510</td>\n",
       "      <td>0.13</td>\n",
       "      <td>2.3</td>\n",
       "      <td>0.076</td>\n",
       "      <td>29.0</td>\n",
       "      <td>40.0</td>\n",
       "      <td>0.99574</td>\n",
       "      <td>3.42</td>\n",
       "      <td>0.75</td>\n",
       "      <td>11.0</td>\n",
       "      <td>6</td>\n",
       "      <td>1</td>\n",
       "    </tr>\n",
       "    <tr>\n",
       "      <th>6495</th>\n",
       "      <td>5.9</td>\n",
       "      <td>0.645</td>\n",
       "      <td>0.12</td>\n",
       "      <td>2.0</td>\n",
       "      <td>0.075</td>\n",
       "      <td>32.0</td>\n",
       "      <td>44.0</td>\n",
       "      <td>0.99547</td>\n",
       "      <td>3.57</td>\n",
       "      <td>0.71</td>\n",
       "      <td>10.2</td>\n",
       "      <td>5</td>\n",
       "      <td>1</td>\n",
       "    </tr>\n",
       "    <tr>\n",
       "      <th>6496</th>\n",
       "      <td>6.0</td>\n",
       "      <td>0.310</td>\n",
       "      <td>0.47</td>\n",
       "      <td>3.6</td>\n",
       "      <td>0.067</td>\n",
       "      <td>18.0</td>\n",
       "      <td>42.0</td>\n",
       "      <td>0.99549</td>\n",
       "      <td>3.39</td>\n",
       "      <td>0.66</td>\n",
       "      <td>11.0</td>\n",
       "      <td>6</td>\n",
       "      <td>1</td>\n",
       "    </tr>\n",
       "  </tbody>\n",
       "</table>\n",
       "<p>6497 rows × 13 columns</p>\n",
       "</div>"
      ],
      "text/plain": [
       "      fixed_acidity  volatile_acidity  citric_acid  residual_sugar  chlorides  \\\n",
       "0               7.0             0.270         0.36            20.7      0.045   \n",
       "1               6.3             0.300         0.34             1.6      0.049   \n",
       "2               8.1             0.280         0.40             6.9      0.050   \n",
       "3               7.2             0.230         0.32             8.5      0.058   \n",
       "4               7.2             0.230         0.32             8.5      0.058   \n",
       "...             ...               ...          ...             ...        ...   \n",
       "6492            6.2             0.600         0.08             2.0      0.090   \n",
       "6493            5.9             0.550         0.10             2.2      0.062   \n",
       "6494            6.3             0.510         0.13             2.3      0.076   \n",
       "6495            5.9             0.645         0.12             2.0      0.075   \n",
       "6496            6.0             0.310         0.47             3.6      0.067   \n",
       "\n",
       "      free_sulfur_dioxide  total_sulfur_dioxide  density    pH  sulphates  \\\n",
       "0                    45.0                 170.0  1.00100  3.00       0.45   \n",
       "1                    14.0                 132.0  0.99400  3.30       0.49   \n",
       "2                    30.0                  97.0  0.99510  3.26       0.44   \n",
       "3                    47.0                 186.0  0.99560  3.19       0.40   \n",
       "4                    47.0                 186.0  0.99560  3.19       0.40   \n",
       "...                   ...                   ...      ...   ...        ...   \n",
       "6492                 32.0                  44.0  0.99490  3.45       0.58   \n",
       "6493                 39.0                  51.0  0.99512  3.52       0.76   \n",
       "6494                 29.0                  40.0  0.99574  3.42       0.75   \n",
       "6495                 32.0                  44.0  0.99547  3.57       0.71   \n",
       "6496                 18.0                  42.0  0.99549  3.39       0.66   \n",
       "\n",
       "      alcohol  quality  wine_type  \n",
       "0         8.8        6          2  \n",
       "1         9.5        6          2  \n",
       "2        10.1        6          2  \n",
       "3         9.9        6          2  \n",
       "4         9.9        6          2  \n",
       "...       ...      ...        ...  \n",
       "6492     10.5        5          1  \n",
       "6493     11.2        6          1  \n",
       "6494     11.0        6          1  \n",
       "6495     10.2        5          1  \n",
       "6496     11.0        6          1  \n",
       "\n",
       "[6497 rows x 13 columns]"
      ]
     },
     "execution_count": 2,
     "metadata": {},
     "output_type": "execute_result"
    }
   ],
   "source": [
    "wine_df = pd.read_csv('data/wine.csv')\n",
    "#dropping catagorical features, quality and type\n",
    "wine_df"
   ]
  },
  {
   "cell_type": "code",
   "execution_count": 3,
   "id": "395b2c90",
   "metadata": {},
   "outputs": [],
   "source": [
    "df = pd.concat([wine_df,pd.get_dummies(wine_df.quality,prefix='quality'),pd.get_dummies(wine_df.wine_type,prefix='wine_type')],axis=1)"
   ]
  },
  {
   "cell_type": "code",
   "execution_count": 4,
   "id": "77def25c",
   "metadata": {},
   "outputs": [],
   "source": [
    "df = df.drop(['quality','wine_type'],axis=1)"
   ]
  },
  {
   "cell_type": "code",
   "execution_count": 5,
   "id": "9c39411c",
   "metadata": {},
   "outputs": [
    {
     "data": {
      "text/plain": [
       "2    4898\n",
       "1    1599\n",
       "Name: wine_type, dtype: int64"
      ]
     },
     "execution_count": 5,
     "metadata": {},
     "output_type": "execute_result"
    }
   ],
   "source": [
    "wine_df.wine_type.value_counts()"
   ]
  },
  {
   "cell_type": "code",
   "execution_count": 6,
   "id": "fb1c52af",
   "metadata": {},
   "outputs": [
    {
     "data": {
      "text/plain": [
       "6    2836\n",
       "5    2138\n",
       "7    1079\n",
       "4     216\n",
       "8     193\n",
       "3      30\n",
       "9       5\n",
       "Name: quality, dtype: int64"
      ]
     },
     "execution_count": 6,
     "metadata": {},
     "output_type": "execute_result"
    }
   ],
   "source": [
    "wine_df.quality.value_counts()"
   ]
  },
  {
   "cell_type": "code",
   "execution_count": 7,
   "id": "da1f6867",
   "metadata": {
    "scrolled": true
   },
   "outputs": [],
   "source": [
    "dfshape = df.shape"
   ]
  },
  {
   "cell_type": "code",
   "execution_count": 8,
   "id": "33031236",
   "metadata": {},
   "outputs": [
    {
     "data": {
      "text/plain": [
       "0.045"
      ]
     },
     "execution_count": 8,
     "metadata": {},
     "output_type": "execute_result"
    }
   ],
   "source": [
    "df.iloc[0,4]"
   ]
  },
  {
   "cell_type": "markdown",
   "id": "6971a6ac",
   "metadata": {},
   "source": [
    "Need to figure out some random locs to sub sample, we can do this based on a percentage of rows/colums or total points"
   ]
  },
  {
   "cell_type": "code",
   "execution_count": 6,
   "id": "cf74e369",
   "metadata": {},
   "outputs": [],
   "source": [
    "def random_loc(data_frame_shape):\n",
    "    col = np.random.randint(0,data_frame_shape[1])\n",
    "    row = np.random.randint(0,data_frame_shape[0])\n",
    "    return row,col"
   ]
  },
  {
   "cell_type": "code",
   "execution_count": 14,
   "id": "2151e218",
   "metadata": {},
   "outputs": [
    {
     "data": {
      "text/plain": [
       "(1283, 3)"
      ]
     },
     "execution_count": 14,
     "metadata": {},
     "output_type": "execute_result"
    }
   ],
   "source": [
    "random_loc(dfshape)"
   ]
  },
  {
   "cell_type": "code",
   "execution_count": 15,
   "id": "d8f67635",
   "metadata": {},
   "outputs": [
    {
     "data": {
      "text/plain": [
       "2001"
      ]
     },
     "execution_count": 15,
     "metadata": {},
     "output_type": "execute_result"
    }
   ],
   "source": [
    "random_loc(dfshape)[0]"
   ]
  },
  {
   "cell_type": "code",
   "execution_count": 16,
   "id": "f95f9922",
   "metadata": {},
   "outputs": [
    {
     "data": {
      "text/plain": [
       "0"
      ]
     },
     "execution_count": 16,
     "metadata": {},
     "output_type": "execute_result"
    }
   ],
   "source": [
    "df.iloc[random_loc(dfshape)[0],random_loc(dfshape)[1]]"
   ]
  },
  {
   "cell_type": "code",
   "execution_count": 7,
   "id": "63c02611",
   "metadata": {},
   "outputs": [],
   "source": [
    "def induce_missingness(dataframe,percent):\n",
    "    num2nan = int(dataframe.shape[0]*dataframe.shape[1]*percent)\n",
    "    \n",
    "    dfout = dataframe.copy()\n",
    "    \n",
    "    for _ in range(num2nan): \n",
    "        \n",
    "        randloc = random_loc(dataframe.shape)\n",
    "        \n",
    "        while dfout.iloc[randloc[0],randloc[1]] == np.nan:\n",
    "            randloc = random_loc(dataframe.shape)\n",
    "            \n",
    "        dfout.iloc[randloc[0],randloc[1]] = np.nan\n",
    "        \n",
    "        \n",
    "    \n",
    "    return dfout \n",
    "    "
   ]
  },
  {
   "cell_type": "code",
   "execution_count": 98,
   "id": "2073c9d1",
   "metadata": {},
   "outputs": [],
   "source": [
    "dout = induce_missingness(df,0.01)"
   ]
  },
  {
   "cell_type": "code",
   "execution_count": 9,
   "id": "7f399eb6",
   "metadata": {},
   "outputs": [
    {
     "data": {
      "text/plain": [
       "(6497, 20)"
      ]
     },
     "execution_count": 9,
     "metadata": {},
     "output_type": "execute_result"
    }
   ],
   "source": [
    "df.shape"
   ]
  },
  {
   "cell_type": "code",
   "execution_count": 8,
   "id": "2e9067fb",
   "metadata": {},
   "outputs": [],
   "source": [
    "from sklearn.preprocessing import MinMaxScaler"
   ]
  },
  {
   "cell_type": "code",
   "execution_count": 9,
   "id": "08e39fe7",
   "metadata": {},
   "outputs": [],
   "source": [
    "scaler = MinMaxScaler()\n",
    "scaler.fit(df.to_numpy())\n",
    "df_scaled = pd.DataFrame(data=scaler.transform(df.to_numpy()),columns=df.columns)"
   ]
  },
  {
   "cell_type": "code",
   "execution_count": 10,
   "id": "2bec138b",
   "metadata": {},
   "outputs": [
    {
     "data": {
      "text/html": [
       "<div>\n",
       "<style scoped>\n",
       "    .dataframe tbody tr th:only-of-type {\n",
       "        vertical-align: middle;\n",
       "    }\n",
       "\n",
       "    .dataframe tbody tr th {\n",
       "        vertical-align: top;\n",
       "    }\n",
       "\n",
       "    .dataframe thead th {\n",
       "        text-align: right;\n",
       "    }\n",
       "</style>\n",
       "<table border=\"1\" class=\"dataframe\">\n",
       "  <thead>\n",
       "    <tr style=\"text-align: right;\">\n",
       "      <th></th>\n",
       "      <th>fixed_acidity</th>\n",
       "      <th>volatile_acidity</th>\n",
       "      <th>citric_acid</th>\n",
       "      <th>residual_sugar</th>\n",
       "      <th>chlorides</th>\n",
       "      <th>free_sulfur_dioxide</th>\n",
       "      <th>total_sulfur_dioxide</th>\n",
       "      <th>density</th>\n",
       "      <th>pH</th>\n",
       "      <th>sulphates</th>\n",
       "      <th>alcohol</th>\n",
       "      <th>quality_3</th>\n",
       "      <th>quality_4</th>\n",
       "      <th>quality_5</th>\n",
       "      <th>quality_6</th>\n",
       "      <th>quality_7</th>\n",
       "      <th>quality_8</th>\n",
       "      <th>quality_9</th>\n",
       "      <th>wine_type_1</th>\n",
       "      <th>wine_type_2</th>\n",
       "    </tr>\n",
       "  </thead>\n",
       "  <tbody>\n",
       "    <tr>\n",
       "      <th>0</th>\n",
       "      <td>num</td>\n",
       "      <td>num</td>\n",
       "      <td>num</td>\n",
       "      <td>num</td>\n",
       "      <td>num</td>\n",
       "      <td>num</td>\n",
       "      <td>num</td>\n",
       "      <td>num</td>\n",
       "      <td>num</td>\n",
       "      <td>num</td>\n",
       "      <td>num</td>\n",
       "      <td>cat</td>\n",
       "      <td>cat</td>\n",
       "      <td>cat</td>\n",
       "      <td>cat</td>\n",
       "      <td>cat</td>\n",
       "      <td>cat</td>\n",
       "      <td>cat</td>\n",
       "      <td>cat</td>\n",
       "      <td>cat</td>\n",
       "    </tr>\n",
       "  </tbody>\n",
       "</table>\n",
       "</div>"
      ],
      "text/plain": [
       "  fixed_acidity volatile_acidity citric_acid residual_sugar chlorides  \\\n",
       "0           num              num         num            num       num   \n",
       "\n",
       "  free_sulfur_dioxide total_sulfur_dioxide density   pH sulphates alcohol  \\\n",
       "0                 num                  num     num  num       num     num   \n",
       "\n",
       "  quality_3 quality_4 quality_5 quality_6 quality_7 quality_8 quality_9  \\\n",
       "0       cat       cat       cat       cat       cat       cat       cat   \n",
       "\n",
       "  wine_type_1 wine_type_2  \n",
       "0         cat         cat  "
      ]
     },
     "execution_count": 10,
     "metadata": {},
     "output_type": "execute_result"
    }
   ],
   "source": [
    "col_type = pd.DataFrame(data=np.array([np.nan]*20).reshape(1,20),columns=df_scaled.columns)\n",
    "for col in df_scaled.columns:\n",
    "    #print(col,len(df_scaled[col].unique()))\n",
    "    \n",
    "    if len(df_scaled[col].unique()) < 3:\n",
    "        col_type[col] = 'cat'\n",
    "    else:\n",
    "        col_type[col] = 'num'\n",
    "col_type.head(5)"
   ]
  },
  {
   "cell_type": "code",
   "execution_count": 11,
   "id": "f86f4639",
   "metadata": {},
   "outputs": [],
   "source": [
    "from Models.simple_VAE import VAE\n",
    "import argparse\n",
    "import torch\n",
    "import torch.utils.data \n",
    "from torch.utils.data import DataLoader\n",
    "from torch import nn, optim\n",
    "from torch.nn import functional as F\n",
    "from torchvision import datasets, transforms\n",
    "from torchvision.utils import save_image\n",
    "import matplotlib.pyplot as plt\n",
    "from sklearn.manifold import TSNE"
   ]
  },
  {
   "cell_type": "code",
   "execution_count": 12,
   "id": "766e1cae",
   "metadata": {},
   "outputs": [],
   "source": [
    "def RMSE(darray,recon):\n",
    "    return np.sqrt(np.mean(np.square(darray - recon)))"
   ]
  },
  {
   "cell_type": "code",
   "execution_count": 14,
   "id": "04f72adf",
   "metadata": {},
   "outputs": [],
   "source": [
    "def train_model(data_array,model_in,\n",
    "                optimizer_in,device_in,epochs=50,batch_size=125):\n",
    "    \n",
    "    \n",
    "    data_iter = DataLoader(dtensor,batch_size=batch_size, shuffle=True)\n",
    "    model_in.train()\n",
    "\n",
    "    loss_store = []\n",
    "\n",
    "    for epoch in range(epochs): \n",
    "        for (idx, batch) in enumerate(data_iter):\n",
    "        \n",
    "        \n",
    "            batch_in = batch.float()\n",
    "            optimizer_in.zero_grad()\n",
    "        \n",
    "            drecon,mu,log_var =  model_in.forward(batch_in)\n",
    "            \n",
    "            loss = model_in.loss(drecon, batch_in)\n",
    "            loss.backward()\n",
    "            optimizer_in.step()\n",
    "\n",
    "\n",
    "        loss_store.append(loss.item())\n",
    "\n",
    "    \n",
    "    plt.plot(loss_store)\n",
    "    plt.show()\n",
    "\n",
    "    model_in.eval()\n",
    "    drecon,mu,log_var =  model(dtensor)\n",
    "    recon_array = drecon.detach().numpy()\n",
    "    input_array = dtensor.detach().numpy()#dtensor.detach().numpy()\n",
    "\n",
    "    return RMSE(input_array,recon_array),model_in"
   ]
  },
  {
   "cell_type": "code",
   "execution_count": 149,
   "id": "e797f8bb",
   "metadata": {},
   "outputs": [
    {
     "ename": "NameError",
     "evalue": "name 'test' is not defined",
     "output_type": "error",
     "traceback": [
      "\u001b[0;31m---------------------------------------------------------------------------\u001b[0m",
      "\u001b[0;31mNameError\u001b[0m                                 Traceback (most recent call last)",
      "\u001b[0;32m<ipython-input-149-65d5429c6221>\u001b[0m in \u001b[0;36m<module>\u001b[0;34m\u001b[0m\n\u001b[0;32m----> 1\u001b[0;31m \u001b[0mtest_recon\u001b[0m\u001b[0;34m,\u001b[0m\u001b[0mmu_test\u001b[0m\u001b[0;34m,\u001b[0m\u001b[0mlog_var\u001b[0m \u001b[0;34m=\u001b[0m \u001b[0mmodel\u001b[0m\u001b[0;34m(\u001b[0m\u001b[0mtorch\u001b[0m\u001b[0;34m.\u001b[0m\u001b[0mFloatTensor\u001b[0m\u001b[0;34m(\u001b[0m\u001b[0mtest\u001b[0m\u001b[0;34m)\u001b[0m\u001b[0;34m)\u001b[0m\u001b[0;34m\u001b[0m\u001b[0;34m\u001b[0m\u001b[0m\n\u001b[0m\u001b[1;32m      2\u001b[0m \u001b[0mz\u001b[0m \u001b[0;34m=\u001b[0m \u001b[0mmodel\u001b[0m\u001b[0;34m.\u001b[0m\u001b[0mreparam\u001b[0m\u001b[0;34m(\u001b[0m\u001b[0mmu_test\u001b[0m\u001b[0;34m,\u001b[0m\u001b[0mlog_var\u001b[0m\u001b[0;34m)\u001b[0m\u001b[0;34m.\u001b[0m\u001b[0mdetach\u001b[0m\u001b[0;34m(\u001b[0m\u001b[0;34m)\u001b[0m\u001b[0;34m.\u001b[0m\u001b[0mnumpy\u001b[0m\u001b[0;34m(\u001b[0m\u001b[0;34m)\u001b[0m\u001b[0;34m\u001b[0m\u001b[0;34m\u001b[0m\u001b[0m\n",
      "\u001b[0;31mNameError\u001b[0m: name 'test' is not defined"
     ]
    }
   ],
   "source": [
    "test_recon,mu_test,log_var = model(torch.FloatTensor(test))\n",
    "z = model.reparam(mu_test,log_var).detach().numpy()"
   ]
  },
  {
   "cell_type": "code",
   "execution_count": 309,
   "id": "f497afb4",
   "metadata": {},
   "outputs": [],
   "source": [
    "\n",
    "z_embedded = TSNE(n_components=2).fit_transform(z)\n",
    "#>>> X_embedded.shape\n",
    "#print(z_embedded)"
   ]
  },
  {
   "cell_type": "code",
   "execution_count": 335,
   "id": "fda91308",
   "metadata": {},
   "outputs": [
    {
     "data": {
      "image/png": "[encoded data removed]",
      "text/plain": [
       "<Figure size 432x288 with 2 Axes>"
      ]
     },
     "metadata": {
      "needs_background": "light"
     },
     "output_type": "display_data"
    }
   ],
   "source": [
    "colours = wine_df['quality'].iloc[:100].to_numpy()\n",
    "bounds = list(set(wine_df['quality'].iloc[:100].to_numpy()))\n",
    "sc = plt.scatter(z_embedded[:,0],z_embedded[:,1],c=colours, cmap='tab10')\n",
    "plt.colorbar(sc, ticks=bounds)\n",
    "plt.show()"
   ]
  },
  {
   "cell_type": "code",
   "execution_count": 18,
   "id": "9f483fdf",
   "metadata": {},
   "outputs": [],
   "source": [
    "def plot_latent_space(data_in,model_in,labels):\n",
    "    \"\"\"\"\"\"\n",
    "    test_recon3,mu_out,log_out = model_in(torch.FloatTensor(data_in))\n",
    "    zout = model_in.reparam(mu_out,log_out).detach().numpy()\n",
    "    \n",
    "    z_emb  = TSNE(n_components=2).fit_transform(zout)\n",
    "    \n",
    "    colours = labels.to_numpy()\n",
    "    bounds = list(set(labels.to_numpy()))\n",
    "    sc = plt.scatter(z_emb[:,0],z_emb[:,1],c=colours, cmap='tab10')\n",
    "    plt.colorbar(sc, ticks=bounds)\n",
    "    plt.show()"
   ]
  },
  {
   "cell_type": "code",
   "execution_count": 343,
   "id": "c3e90095",
   "metadata": {},
   "outputs": [
    {
     "data": {
      "image/png": "[encoded data removed]",
      "text/plain": [
       "<Figure size 432x288 with 2 Axes>"
      ]
     },
     "metadata": {
      "needs_background": "light"
     },
     "output_type": "display_data"
    }
   ],
   "source": [
    "plot_latent_space(test,model,wine_df['quality'].iloc[:100])"
   ]
  },
  {
   "cell_type": "code",
   "execution_count": 346,
   "id": "aa18141c",
   "metadata": {},
   "outputs": [
    {
     "data": {
      "image/png": "[encoded data removed]",
      "text/plain": [
       "<Figure size 432x288 with 2 Axes>"
      ]
     },
     "metadata": {
      "needs_background": "light"
     },
     "output_type": "display_data"
    }
   ],
   "source": [
    "plot_latent_space(darray[100:,:],model,wine_df['wine_type'].iloc[100:]) "
   ]
  },
  {
   "cell_type": "code",
   "execution_count": 15,
   "id": "99c049c4",
   "metadata": {},
   "outputs": [],
   "source": [
    "df_shuffle = df_scaled.sample(frac=1)\n",
    "df_test    = df_shuffle.iloc[:,:].reset_index(drop=True)\n",
    "df_train   = df_shuffle.iloc[:-1200,:].reset_index(drop=True)\n",
    "#roughly 20% train test split"
   ]
  },
  {
   "cell_type": "code",
   "execution_count": 16,
   "id": "307d11cd",
   "metadata": {},
   "outputs": [
    {
     "data": {
      "text/html": [
       "<div>\n",
       "<style scoped>\n",
       "    .dataframe tbody tr th:only-of-type {\n",
       "        vertical-align: middle;\n",
       "    }\n",
       "\n",
       "    .dataframe tbody tr th {\n",
       "        vertical-align: top;\n",
       "    }\n",
       "\n",
       "    .dataframe thead th {\n",
       "        text-align: right;\n",
       "    }\n",
       "</style>\n",
       "<table border=\"1\" class=\"dataframe\">\n",
       "  <thead>\n",
       "    <tr style=\"text-align: right;\">\n",
       "      <th></th>\n",
       "      <th>fixed_acidity</th>\n",
       "      <th>volatile_acidity</th>\n",
       "      <th>citric_acid</th>\n",
       "      <th>residual_sugar</th>\n",
       "      <th>chlorides</th>\n",
       "      <th>free_sulfur_dioxide</th>\n",
       "      <th>total_sulfur_dioxide</th>\n",
       "      <th>density</th>\n",
       "      <th>pH</th>\n",
       "      <th>sulphates</th>\n",
       "      <th>alcohol</th>\n",
       "      <th>quality_3</th>\n",
       "      <th>quality_4</th>\n",
       "      <th>quality_5</th>\n",
       "      <th>quality_6</th>\n",
       "      <th>quality_7</th>\n",
       "      <th>quality_8</th>\n",
       "      <th>quality_9</th>\n",
       "      <th>wine_type_1</th>\n",
       "      <th>wine_type_2</th>\n",
       "    </tr>\n",
       "  </thead>\n",
       "  <tbody>\n",
       "    <tr>\n",
       "      <th>0</th>\n",
       "      <td>0.239669</td>\n",
       "      <td>0.386667</td>\n",
       "      <td>0.000000</td>\n",
       "      <td>0.190184</td>\n",
       "      <td>0.039867</td>\n",
       "      <td>0.107639</td>\n",
       "      <td>0.158986</td>\n",
       "      <td>0.161881</td>\n",
       "      <td>0.333333</td>\n",
       "      <td>0.157303</td>\n",
       "      <td>0.391304</td>\n",
       "      <td>0.0</td>\n",
       "      <td>0.0</td>\n",
       "      <td>0.0</td>\n",
       "      <td>1.0</td>\n",
       "      <td>0.0</td>\n",
       "      <td>0.0</td>\n",
       "      <td>0.0</td>\n",
       "      <td>0.0</td>\n",
       "      <td>1.0</td>\n",
       "    </tr>\n",
       "    <tr>\n",
       "      <th>1</th>\n",
       "      <td>0.231405</td>\n",
       "      <td>0.033333</td>\n",
       "      <td>0.180229</td>\n",
       "      <td>0.065951</td>\n",
       "      <td>0.081395</td>\n",
       "      <td>0.159722</td>\n",
       "      <td>0.288018</td>\n",
       "      <td>0.144344</td>\n",
       "      <td>0.612403</td>\n",
       "      <td>0.129213</td>\n",
       "      <td>0.333333</td>\n",
       "      <td>0.0</td>\n",
       "      <td>0.0</td>\n",
       "      <td>0.0</td>\n",
       "      <td>1.0</td>\n",
       "      <td>0.0</td>\n",
       "      <td>0.0</td>\n",
       "      <td>0.0</td>\n",
       "      <td>0.0</td>\n",
       "      <td>1.0</td>\n",
       "    </tr>\n",
       "    <tr>\n",
       "      <th>2</th>\n",
       "      <td>0.413223</td>\n",
       "      <td>0.186667</td>\n",
       "      <td>0.264617</td>\n",
       "      <td>0.019939</td>\n",
       "      <td>0.051495</td>\n",
       "      <td>0.027778</td>\n",
       "      <td>0.264977</td>\n",
       "      <td>0.157834</td>\n",
       "      <td>0.364341</td>\n",
       "      <td>0.146067</td>\n",
       "      <td>0.275362</td>\n",
       "      <td>0.0</td>\n",
       "      <td>0.0</td>\n",
       "      <td>0.0</td>\n",
       "      <td>1.0</td>\n",
       "      <td>0.0</td>\n",
       "      <td>0.0</td>\n",
       "      <td>0.0</td>\n",
       "      <td>0.0</td>\n",
       "      <td>1.0</td>\n",
       "    </tr>\n",
       "    <tr>\n",
       "      <th>3</th>\n",
       "      <td>0.330579</td>\n",
       "      <td>0.353333</td>\n",
       "      <td>0.174201</td>\n",
       "      <td>0.015337</td>\n",
       "      <td>0.174419</td>\n",
       "      <td>0.027778</td>\n",
       "      <td>0.052995</td>\n",
       "      <td>0.198304</td>\n",
       "      <td>0.418605</td>\n",
       "      <td>0.752809</td>\n",
       "      <td>0.159420</td>\n",
       "      <td>0.0</td>\n",
       "      <td>0.0</td>\n",
       "      <td>1.0</td>\n",
       "      <td>0.0</td>\n",
       "      <td>0.0</td>\n",
       "      <td>0.0</td>\n",
       "      <td>0.0</td>\n",
       "      <td>1.0</td>\n",
       "      <td>0.0</td>\n",
       "    </tr>\n",
       "    <tr>\n",
       "      <th>4</th>\n",
       "      <td>0.371901</td>\n",
       "      <td>0.166667</td>\n",
       "      <td>0.252562</td>\n",
       "      <td>0.008436</td>\n",
       "      <td>0.039867</td>\n",
       "      <td>0.059028</td>\n",
       "      <td>0.207373</td>\n",
       "      <td>0.076893</td>\n",
       "      <td>0.372093</td>\n",
       "      <td>0.056180</td>\n",
       "      <td>0.637681</td>\n",
       "      <td>1.0</td>\n",
       "      <td>0.0</td>\n",
       "      <td>0.0</td>\n",
       "      <td>0.0</td>\n",
       "      <td>0.0</td>\n",
       "      <td>0.0</td>\n",
       "      <td>0.0</td>\n",
       "      <td>0.0</td>\n",
       "      <td>1.0</td>\n",
       "    </tr>\n",
       "  </tbody>\n",
       "</table>\n",
       "</div>"
      ],
      "text/plain": [
       "   fixed_acidity  volatile_acidity  citric_acid  residual_sugar  chlorides  \\\n",
       "0       0.239669          0.386667     0.000000        0.190184   0.039867   \n",
       "1       0.231405          0.033333     0.180229        0.065951   0.081395   \n",
       "2       0.413223          0.186667     0.264617        0.019939   0.051495   \n",
       "3       0.330579          0.353333     0.174201        0.015337   0.174419   \n",
       "4       0.371901          0.166667     0.252562        0.008436   0.039867   \n",
       "\n",
       "   free_sulfur_dioxide  total_sulfur_dioxide   density        pH  sulphates  \\\n",
       "0             0.107639              0.158986  0.161881  0.333333   0.157303   \n",
       "1             0.159722              0.288018  0.144344  0.612403   0.129213   \n",
       "2             0.027778              0.264977  0.157834  0.364341   0.146067   \n",
       "3             0.027778              0.052995  0.198304  0.418605   0.752809   \n",
       "4             0.059028              0.207373  0.076893  0.372093   0.056180   \n",
       "\n",
       "    alcohol  quality_3  quality_4  quality_5  quality_6  quality_7  quality_8  \\\n",
       "0  0.391304        0.0        0.0        0.0        1.0        0.0        0.0   \n",
       "1  0.333333        0.0        0.0        0.0        1.0        0.0        0.0   \n",
       "2  0.275362        0.0        0.0        0.0        1.0        0.0        0.0   \n",
       "3  0.159420        0.0        0.0        1.0        0.0        0.0        0.0   \n",
       "4  0.637681        1.0        0.0        0.0        0.0        0.0        0.0   \n",
       "\n",
       "   quality_9  wine_type_1  wine_type_2  \n",
       "0        0.0          0.0          1.0  \n",
       "1        0.0          0.0          1.0  \n",
       "2        0.0          0.0          1.0  \n",
       "3        0.0          1.0          0.0  \n",
       "4        0.0          0.0          1.0  "
      ]
     },
     "execution_count": 16,
     "metadata": {},
     "output_type": "execute_result"
    }
   ],
   "source": [
    "df_test.head(5)"
   ]
  },
  {
   "cell_type": "code",
   "execution_count": 17,
   "id": "17b02e7e",
   "metadata": {},
   "outputs": [],
   "source": [
    "df_test_with_nans = induce_missingness(df_test,0.5)"
   ]
  },
  {
   "cell_type": "code",
   "execution_count": 18,
   "id": "48b10b8b",
   "metadata": {},
   "outputs": [
    {
     "data": {
      "text/html": [
       "<div>\n",
       "<style scoped>\n",
       "    .dataframe tbody tr th:only-of-type {\n",
       "        vertical-align: middle;\n",
       "    }\n",
       "\n",
       "    .dataframe tbody tr th {\n",
       "        vertical-align: top;\n",
       "    }\n",
       "\n",
       "    .dataframe thead th {\n",
       "        text-align: right;\n",
       "    }\n",
       "</style>\n",
       "<table border=\"1\" class=\"dataframe\">\n",
       "  <thead>\n",
       "    <tr style=\"text-align: right;\">\n",
       "      <th></th>\n",
       "      <th>fixed_acidity</th>\n",
       "      <th>volatile_acidity</th>\n",
       "      <th>citric_acid</th>\n",
       "      <th>residual_sugar</th>\n",
       "      <th>chlorides</th>\n",
       "      <th>free_sulfur_dioxide</th>\n",
       "      <th>total_sulfur_dioxide</th>\n",
       "      <th>density</th>\n",
       "      <th>pH</th>\n",
       "      <th>sulphates</th>\n",
       "      <th>alcohol</th>\n",
       "      <th>quality_3</th>\n",
       "      <th>quality_4</th>\n",
       "      <th>quality_5</th>\n",
       "      <th>quality_6</th>\n",
       "      <th>quality_7</th>\n",
       "      <th>quality_8</th>\n",
       "      <th>quality_9</th>\n",
       "      <th>wine_type_1</th>\n",
       "      <th>wine_type_2</th>\n",
       "    </tr>\n",
       "  </thead>\n",
       "  <tbody>\n",
       "    <tr>\n",
       "      <th>0</th>\n",
       "      <td>0.239669</td>\n",
       "      <td>0.386667</td>\n",
       "      <td>0.000000</td>\n",
       "      <td>0.190184</td>\n",
       "      <td>0.039867</td>\n",
       "      <td>0.107639</td>\n",
       "      <td>0.158986</td>\n",
       "      <td>0.161881</td>\n",
       "      <td>NaN</td>\n",
       "      <td>0.157303</td>\n",
       "      <td>0.391304</td>\n",
       "      <td>0.0</td>\n",
       "      <td>NaN</td>\n",
       "      <td>NaN</td>\n",
       "      <td>NaN</td>\n",
       "      <td>0.0</td>\n",
       "      <td>NaN</td>\n",
       "      <td>0.0</td>\n",
       "      <td>0.0</td>\n",
       "      <td>1.0</td>\n",
       "    </tr>\n",
       "    <tr>\n",
       "      <th>1</th>\n",
       "      <td>0.231405</td>\n",
       "      <td>0.033333</td>\n",
       "      <td>0.180229</td>\n",
       "      <td>NaN</td>\n",
       "      <td>0.081395</td>\n",
       "      <td>0.159722</td>\n",
       "      <td>0.288018</td>\n",
       "      <td>0.144344</td>\n",
       "      <td>0.612403</td>\n",
       "      <td>NaN</td>\n",
       "      <td>0.333333</td>\n",
       "      <td>0.0</td>\n",
       "      <td>0.0</td>\n",
       "      <td>0.0</td>\n",
       "      <td>1.0</td>\n",
       "      <td>0.0</td>\n",
       "      <td>0.0</td>\n",
       "      <td>0.0</td>\n",
       "      <td>0.0</td>\n",
       "      <td>1.0</td>\n",
       "    </tr>\n",
       "    <tr>\n",
       "      <th>2</th>\n",
       "      <td>0.413223</td>\n",
       "      <td>NaN</td>\n",
       "      <td>NaN</td>\n",
       "      <td>0.019939</td>\n",
       "      <td>NaN</td>\n",
       "      <td>0.027778</td>\n",
       "      <td>0.264977</td>\n",
       "      <td>0.157834</td>\n",
       "      <td>0.364341</td>\n",
       "      <td>0.146067</td>\n",
       "      <td>NaN</td>\n",
       "      <td>0.0</td>\n",
       "      <td>0.0</td>\n",
       "      <td>NaN</td>\n",
       "      <td>1.0</td>\n",
       "      <td>0.0</td>\n",
       "      <td>NaN</td>\n",
       "      <td>0.0</td>\n",
       "      <td>NaN</td>\n",
       "      <td>NaN</td>\n",
       "    </tr>\n",
       "    <tr>\n",
       "      <th>3</th>\n",
       "      <td>0.330579</td>\n",
       "      <td>NaN</td>\n",
       "      <td>0.174201</td>\n",
       "      <td>0.015337</td>\n",
       "      <td>0.174419</td>\n",
       "      <td>NaN</td>\n",
       "      <td>0.052995</td>\n",
       "      <td>0.198304</td>\n",
       "      <td>NaN</td>\n",
       "      <td>NaN</td>\n",
       "      <td>NaN</td>\n",
       "      <td>0.0</td>\n",
       "      <td>0.0</td>\n",
       "      <td>1.0</td>\n",
       "      <td>NaN</td>\n",
       "      <td>0.0</td>\n",
       "      <td>0.0</td>\n",
       "      <td>NaN</td>\n",
       "      <td>1.0</td>\n",
       "      <td>NaN</td>\n",
       "    </tr>\n",
       "    <tr>\n",
       "      <th>4</th>\n",
       "      <td>NaN</td>\n",
       "      <td>0.166667</td>\n",
       "      <td>NaN</td>\n",
       "      <td>0.008436</td>\n",
       "      <td>0.039867</td>\n",
       "      <td>0.059028</td>\n",
       "      <td>0.207373</td>\n",
       "      <td>NaN</td>\n",
       "      <td>0.372093</td>\n",
       "      <td>0.056180</td>\n",
       "      <td>NaN</td>\n",
       "      <td>NaN</td>\n",
       "      <td>NaN</td>\n",
       "      <td>NaN</td>\n",
       "      <td>0.0</td>\n",
       "      <td>NaN</td>\n",
       "      <td>NaN</td>\n",
       "      <td>0.0</td>\n",
       "      <td>0.0</td>\n",
       "      <td>1.0</td>\n",
       "    </tr>\n",
       "  </tbody>\n",
       "</table>\n",
       "</div>"
      ],
      "text/plain": [
       "   fixed_acidity  volatile_acidity  citric_acid  residual_sugar  chlorides  \\\n",
       "0       0.239669          0.386667     0.000000        0.190184   0.039867   \n",
       "1       0.231405          0.033333     0.180229             NaN   0.081395   \n",
       "2       0.413223               NaN          NaN        0.019939        NaN   \n",
       "3       0.330579               NaN     0.174201        0.015337   0.174419   \n",
       "4            NaN          0.166667          NaN        0.008436   0.039867   \n",
       "\n",
       "   free_sulfur_dioxide  total_sulfur_dioxide   density        pH  sulphates  \\\n",
       "0             0.107639              0.158986  0.161881       NaN   0.157303   \n",
       "1             0.159722              0.288018  0.144344  0.612403        NaN   \n",
       "2             0.027778              0.264977  0.157834  0.364341   0.146067   \n",
       "3                  NaN              0.052995  0.198304       NaN        NaN   \n",
       "4             0.059028              0.207373       NaN  0.372093   0.056180   \n",
       "\n",
       "    alcohol  quality_3  quality_4  quality_5  quality_6  quality_7  quality_8  \\\n",
       "0  0.391304        0.0        NaN        NaN        NaN        0.0        NaN   \n",
       "1  0.333333        0.0        0.0        0.0        1.0        0.0        0.0   \n",
       "2       NaN        0.0        0.0        NaN        1.0        0.0        NaN   \n",
       "3       NaN        0.0        0.0        1.0        NaN        0.0        0.0   \n",
       "4       NaN        NaN        NaN        NaN        0.0        NaN        NaN   \n",
       "\n",
       "   quality_9  wine_type_1  wine_type_2  \n",
       "0        0.0          0.0          1.0  \n",
       "1        0.0          0.0          1.0  \n",
       "2        0.0          NaN          NaN  \n",
       "3        NaN          1.0          NaN  \n",
       "4        0.0          0.0          1.0  "
      ]
     },
     "execution_count": 18,
     "metadata": {},
     "output_type": "execute_result"
    }
   ],
   "source": [
    "df_test_with_nans.head(5)"
   ]
  },
  {
   "cell_type": "code",
   "execution_count": 19,
   "id": "6d2934e5",
   "metadata": {},
   "outputs": [
    {
     "data": {
      "text/plain": [
       "MissingIndicator()"
      ]
     },
     "execution_count": 19,
     "metadata": {},
     "output_type": "execute_result"
    }
   ],
   "source": [
    "from sklearn.impute import MissingIndicator\n",
    "indicator = MissingIndicator()\n",
    "indicator.fit(df_test_with_nans)"
   ]
  },
  {
   "cell_type": "code",
   "execution_count": 20,
   "id": "23b2f7c7",
   "metadata": {},
   "outputs": [],
   "source": [
    "nan_mask = indicator.transform(df_test_with_nans)"
   ]
  },
  {
   "cell_type": "code",
   "execution_count": 21,
   "id": "76d1aa08",
   "metadata": {},
   "outputs": [
    {
     "data": {
      "text/html": [
       "<div>\n",
       "<style scoped>\n",
       "    .dataframe tbody tr th:only-of-type {\n",
       "        vertical-align: middle;\n",
       "    }\n",
       "\n",
       "    .dataframe tbody tr th {\n",
       "        vertical-align: top;\n",
       "    }\n",
       "\n",
       "    .dataframe thead th {\n",
       "        text-align: right;\n",
       "    }\n",
       "</style>\n",
       "<table border=\"1\" class=\"dataframe\">\n",
       "  <thead>\n",
       "    <tr style=\"text-align: right;\">\n",
       "      <th></th>\n",
       "      <th>fixed_acidity</th>\n",
       "      <th>volatile_acidity</th>\n",
       "      <th>citric_acid</th>\n",
       "      <th>residual_sugar</th>\n",
       "      <th>chlorides</th>\n",
       "      <th>free_sulfur_dioxide</th>\n",
       "      <th>total_sulfur_dioxide</th>\n",
       "      <th>density</th>\n",
       "      <th>pH</th>\n",
       "      <th>sulphates</th>\n",
       "      <th>alcohol</th>\n",
       "      <th>quality_3</th>\n",
       "      <th>quality_4</th>\n",
       "      <th>quality_5</th>\n",
       "      <th>quality_6</th>\n",
       "      <th>quality_7</th>\n",
       "      <th>quality_8</th>\n",
       "      <th>quality_9</th>\n",
       "      <th>wine_type_1</th>\n",
       "      <th>wine_type_2</th>\n",
       "    </tr>\n",
       "  </thead>\n",
       "  <tbody>\n",
       "    <tr>\n",
       "      <th>0</th>\n",
       "      <td>False</td>\n",
       "      <td>False</td>\n",
       "      <td>False</td>\n",
       "      <td>False</td>\n",
       "      <td>False</td>\n",
       "      <td>False</td>\n",
       "      <td>False</td>\n",
       "      <td>False</td>\n",
       "      <td>True</td>\n",
       "      <td>False</td>\n",
       "      <td>False</td>\n",
       "      <td>False</td>\n",
       "      <td>True</td>\n",
       "      <td>True</td>\n",
       "      <td>True</td>\n",
       "      <td>False</td>\n",
       "      <td>True</td>\n",
       "      <td>False</td>\n",
       "      <td>False</td>\n",
       "      <td>False</td>\n",
       "    </tr>\n",
       "    <tr>\n",
       "      <th>1</th>\n",
       "      <td>False</td>\n",
       "      <td>False</td>\n",
       "      <td>False</td>\n",
       "      <td>True</td>\n",
       "      <td>False</td>\n",
       "      <td>False</td>\n",
       "      <td>False</td>\n",
       "      <td>False</td>\n",
       "      <td>False</td>\n",
       "      <td>True</td>\n",
       "      <td>False</td>\n",
       "      <td>False</td>\n",
       "      <td>False</td>\n",
       "      <td>False</td>\n",
       "      <td>False</td>\n",
       "      <td>False</td>\n",
       "      <td>False</td>\n",
       "      <td>False</td>\n",
       "      <td>False</td>\n",
       "      <td>False</td>\n",
       "    </tr>\n",
       "    <tr>\n",
       "      <th>2</th>\n",
       "      <td>False</td>\n",
       "      <td>True</td>\n",
       "      <td>True</td>\n",
       "      <td>False</td>\n",
       "      <td>True</td>\n",
       "      <td>False</td>\n",
       "      <td>False</td>\n",
       "      <td>False</td>\n",
       "      <td>False</td>\n",
       "      <td>False</td>\n",
       "      <td>True</td>\n",
       "      <td>False</td>\n",
       "      <td>False</td>\n",
       "      <td>True</td>\n",
       "      <td>False</td>\n",
       "      <td>False</td>\n",
       "      <td>True</td>\n",
       "      <td>False</td>\n",
       "      <td>True</td>\n",
       "      <td>True</td>\n",
       "    </tr>\n",
       "    <tr>\n",
       "      <th>3</th>\n",
       "      <td>False</td>\n",
       "      <td>True</td>\n",
       "      <td>False</td>\n",
       "      <td>False</td>\n",
       "      <td>False</td>\n",
       "      <td>True</td>\n",
       "      <td>False</td>\n",
       "      <td>False</td>\n",
       "      <td>True</td>\n",
       "      <td>True</td>\n",
       "      <td>True</td>\n",
       "      <td>False</td>\n",
       "      <td>False</td>\n",
       "      <td>False</td>\n",
       "      <td>True</td>\n",
       "      <td>False</td>\n",
       "      <td>False</td>\n",
       "      <td>True</td>\n",
       "      <td>False</td>\n",
       "      <td>True</td>\n",
       "    </tr>\n",
       "    <tr>\n",
       "      <th>4</th>\n",
       "      <td>True</td>\n",
       "      <td>False</td>\n",
       "      <td>True</td>\n",
       "      <td>False</td>\n",
       "      <td>False</td>\n",
       "      <td>False</td>\n",
       "      <td>False</td>\n",
       "      <td>True</td>\n",
       "      <td>False</td>\n",
       "      <td>False</td>\n",
       "      <td>True</td>\n",
       "      <td>True</td>\n",
       "      <td>True</td>\n",
       "      <td>True</td>\n",
       "      <td>False</td>\n",
       "      <td>True</td>\n",
       "      <td>True</td>\n",
       "      <td>False</td>\n",
       "      <td>False</td>\n",
       "      <td>False</td>\n",
       "    </tr>\n",
       "  </tbody>\n",
       "</table>\n",
       "</div>"
      ],
      "text/plain": [
       "   fixed_acidity  volatile_acidity  citric_acid  residual_sugar  chlorides  \\\n",
       "0          False             False        False           False      False   \n",
       "1          False             False        False            True      False   \n",
       "2          False              True         True           False       True   \n",
       "3          False              True        False           False      False   \n",
       "4           True             False         True           False      False   \n",
       "\n",
       "   free_sulfur_dioxide  total_sulfur_dioxide  density     pH  sulphates  \\\n",
       "0                False                 False    False   True      False   \n",
       "1                False                 False    False  False       True   \n",
       "2                False                 False    False  False      False   \n",
       "3                 True                 False    False   True       True   \n",
       "4                False                 False     True  False      False   \n",
       "\n",
       "   alcohol  quality_3  quality_4  quality_5  quality_6  quality_7  quality_8  \\\n",
       "0    False      False       True       True       True      False       True   \n",
       "1    False      False      False      False      False      False      False   \n",
       "2     True      False      False       True      False      False       True   \n",
       "3     True      False      False      False       True      False      False   \n",
       "4     True       True       True       True      False       True       True   \n",
       "\n",
       "   quality_9  wine_type_1  wine_type_2  \n",
       "0      False        False        False  \n",
       "1      False        False        False  \n",
       "2      False         True         True  \n",
       "3       True        False         True  \n",
       "4      False        False        False  "
      ]
     },
     "execution_count": 21,
     "metadata": {},
     "output_type": "execute_result"
    }
   ],
   "source": [
    "nan_mask_df = pd.DataFrame(data=nan_mask,columns=df_test.columns)\n",
    "nan_mask_df.head(5)"
   ]
  },
  {
   "cell_type": "code",
   "execution_count": 22,
   "id": "f89d5b30",
   "metadata": {},
   "outputs": [],
   "source": [
    "M = len(df_test_with_nans.index)\n",
    "N = len(df_test_with_nans.columns)\n",
    "ran = pd.DataFrame(np.random.uniform(size=(M,N)), columns=df_test_with_nans.columns, index=df_test_with_nans.index)"
   ]
  },
  {
   "cell_type": "code",
   "execution_count": 23,
   "id": "d2e932cb",
   "metadata": {},
   "outputs": [
    {
     "data": {
      "text/html": [
       "<div>\n",
       "<style scoped>\n",
       "    .dataframe tbody tr th:only-of-type {\n",
       "        vertical-align: middle;\n",
       "    }\n",
       "\n",
       "    .dataframe tbody tr th {\n",
       "        vertical-align: top;\n",
       "    }\n",
       "\n",
       "    .dataframe thead th {\n",
       "        text-align: right;\n",
       "    }\n",
       "</style>\n",
       "<table border=\"1\" class=\"dataframe\">\n",
       "  <thead>\n",
       "    <tr style=\"text-align: right;\">\n",
       "      <th></th>\n",
       "      <th>fixed_acidity</th>\n",
       "      <th>volatile_acidity</th>\n",
       "      <th>citric_acid</th>\n",
       "      <th>residual_sugar</th>\n",
       "      <th>chlorides</th>\n",
       "      <th>free_sulfur_dioxide</th>\n",
       "      <th>total_sulfur_dioxide</th>\n",
       "      <th>density</th>\n",
       "      <th>pH</th>\n",
       "      <th>sulphates</th>\n",
       "      <th>alcohol</th>\n",
       "      <th>quality_3</th>\n",
       "      <th>quality_4</th>\n",
       "      <th>quality_5</th>\n",
       "      <th>quality_6</th>\n",
       "      <th>quality_7</th>\n",
       "      <th>quality_8</th>\n",
       "      <th>quality_9</th>\n",
       "      <th>wine_type_1</th>\n",
       "      <th>wine_type_2</th>\n",
       "    </tr>\n",
       "  </thead>\n",
       "  <tbody>\n",
       "    <tr>\n",
       "      <th>0</th>\n",
       "      <td>0.000000</td>\n",
       "      <td>0.000000</td>\n",
       "      <td>0.000000</td>\n",
       "      <td>0.000000</td>\n",
       "      <td>0.000000</td>\n",
       "      <td>0.000000</td>\n",
       "      <td>0.0</td>\n",
       "      <td>0.000000</td>\n",
       "      <td>0.734548</td>\n",
       "      <td>0.000000</td>\n",
       "      <td>0.000000</td>\n",
       "      <td>0.000000</td>\n",
       "      <td>0.844148</td>\n",
       "      <td>0.153666</td>\n",
       "      <td>0.440163</td>\n",
       "      <td>0.000000</td>\n",
       "      <td>0.329593</td>\n",
       "      <td>0.00000</td>\n",
       "      <td>0.000000</td>\n",
       "      <td>0.000000</td>\n",
       "    </tr>\n",
       "    <tr>\n",
       "      <th>1</th>\n",
       "      <td>0.000000</td>\n",
       "      <td>0.000000</td>\n",
       "      <td>0.000000</td>\n",
       "      <td>0.249771</td>\n",
       "      <td>0.000000</td>\n",
       "      <td>0.000000</td>\n",
       "      <td>0.0</td>\n",
       "      <td>0.000000</td>\n",
       "      <td>0.000000</td>\n",
       "      <td>0.838041</td>\n",
       "      <td>0.000000</td>\n",
       "      <td>0.000000</td>\n",
       "      <td>0.000000</td>\n",
       "      <td>0.000000</td>\n",
       "      <td>0.000000</td>\n",
       "      <td>0.000000</td>\n",
       "      <td>0.000000</td>\n",
       "      <td>0.00000</td>\n",
       "      <td>0.000000</td>\n",
       "      <td>0.000000</td>\n",
       "    </tr>\n",
       "    <tr>\n",
       "      <th>2</th>\n",
       "      <td>0.000000</td>\n",
       "      <td>0.775768</td>\n",
       "      <td>0.090538</td>\n",
       "      <td>0.000000</td>\n",
       "      <td>0.460827</td>\n",
       "      <td>0.000000</td>\n",
       "      <td>0.0</td>\n",
       "      <td>0.000000</td>\n",
       "      <td>0.000000</td>\n",
       "      <td>0.000000</td>\n",
       "      <td>0.015338</td>\n",
       "      <td>0.000000</td>\n",
       "      <td>0.000000</td>\n",
       "      <td>0.749537</td>\n",
       "      <td>0.000000</td>\n",
       "      <td>0.000000</td>\n",
       "      <td>0.015302</td>\n",
       "      <td>0.00000</td>\n",
       "      <td>0.271304</td>\n",
       "      <td>0.608795</td>\n",
       "    </tr>\n",
       "    <tr>\n",
       "      <th>3</th>\n",
       "      <td>0.000000</td>\n",
       "      <td>0.442478</td>\n",
       "      <td>0.000000</td>\n",
       "      <td>0.000000</td>\n",
       "      <td>0.000000</td>\n",
       "      <td>0.973972</td>\n",
       "      <td>0.0</td>\n",
       "      <td>0.000000</td>\n",
       "      <td>0.861572</td>\n",
       "      <td>0.957186</td>\n",
       "      <td>0.942026</td>\n",
       "      <td>0.000000</td>\n",
       "      <td>0.000000</td>\n",
       "      <td>0.000000</td>\n",
       "      <td>0.350991</td>\n",
       "      <td>0.000000</td>\n",
       "      <td>0.000000</td>\n",
       "      <td>0.18897</td>\n",
       "      <td>0.000000</td>\n",
       "      <td>0.423959</td>\n",
       "    </tr>\n",
       "    <tr>\n",
       "      <th>4</th>\n",
       "      <td>0.012288</td>\n",
       "      <td>0.000000</td>\n",
       "      <td>0.990013</td>\n",
       "      <td>0.000000</td>\n",
       "      <td>0.000000</td>\n",
       "      <td>0.000000</td>\n",
       "      <td>0.0</td>\n",
       "      <td>0.232016</td>\n",
       "      <td>0.000000</td>\n",
       "      <td>0.000000</td>\n",
       "      <td>0.519568</td>\n",
       "      <td>0.776271</td>\n",
       "      <td>0.883785</td>\n",
       "      <td>0.042304</td>\n",
       "      <td>0.000000</td>\n",
       "      <td>0.876891</td>\n",
       "      <td>0.135682</td>\n",
       "      <td>0.00000</td>\n",
       "      <td>0.000000</td>\n",
       "      <td>0.000000</td>\n",
       "    </tr>\n",
       "  </tbody>\n",
       "</table>\n",
       "</div>"
      ],
      "text/plain": [
       "   fixed_acidity  volatile_acidity  citric_acid  residual_sugar  chlorides  \\\n",
       "0       0.000000          0.000000     0.000000        0.000000   0.000000   \n",
       "1       0.000000          0.000000     0.000000        0.249771   0.000000   \n",
       "2       0.000000          0.775768     0.090538        0.000000   0.460827   \n",
       "3       0.000000          0.442478     0.000000        0.000000   0.000000   \n",
       "4       0.012288          0.000000     0.990013        0.000000   0.000000   \n",
       "\n",
       "   free_sulfur_dioxide  total_sulfur_dioxide   density        pH  sulphates  \\\n",
       "0             0.000000                   0.0  0.000000  0.734548   0.000000   \n",
       "1             0.000000                   0.0  0.000000  0.000000   0.838041   \n",
       "2             0.000000                   0.0  0.000000  0.000000   0.000000   \n",
       "3             0.973972                   0.0  0.000000  0.861572   0.957186   \n",
       "4             0.000000                   0.0  0.232016  0.000000   0.000000   \n",
       "\n",
       "    alcohol  quality_3  quality_4  quality_5  quality_6  quality_7  quality_8  \\\n",
       "0  0.000000   0.000000   0.844148   0.153666   0.440163   0.000000   0.329593   \n",
       "1  0.000000   0.000000   0.000000   0.000000   0.000000   0.000000   0.000000   \n",
       "2  0.015338   0.000000   0.000000   0.749537   0.000000   0.000000   0.015302   \n",
       "3  0.942026   0.000000   0.000000   0.000000   0.350991   0.000000   0.000000   \n",
       "4  0.519568   0.776271   0.883785   0.042304   0.000000   0.876891   0.135682   \n",
       "\n",
       "   quality_9  wine_type_1  wine_type_2  \n",
       "0    0.00000     0.000000     0.000000  \n",
       "1    0.00000     0.000000     0.000000  \n",
       "2    0.00000     0.271304     0.608795  \n",
       "3    0.18897     0.000000     0.423959  \n",
       "4    0.00000     0.000000     0.000000  "
      ]
     },
     "execution_count": 23,
     "metadata": {},
     "output_type": "execute_result"
    }
   ],
   "source": [
    "df_test_nans_filled = df_test_with_nans.copy()\n",
    "df_test_nans_filled[df_test_with_nans.isnull()==True] = ran\n",
    "(df_test_nans_filled*nan_mask_df).head(5)"
   ]
  },
  {
   "cell_type": "code",
   "execution_count": 24,
   "id": "c7e53d9a",
   "metadata": {},
   "outputs": [
    {
     "name": "stdout",
     "output_type": "stream",
     "text": [
      "VAE(\n",
      "  (fc1): Linear(in_features=20, out_features=20, bias=True)\n",
      "  (fc11): Linear(in_features=20, out_features=10, bias=True)\n",
      "  (fc12): Linear(in_features=10, out_features=5, bias=True)\n",
      "  (fc21): Linear(in_features=5, out_features=2, bias=True)\n",
      "  (fc22): Linear(in_features=5, out_features=2, bias=True)\n",
      "  (fc3): Linear(in_features=2, out_features=5, bias=True)\n",
      "  (fc31): Linear(in_features=5, out_features=10, bias=True)\n",
      "  (fc32): Linear(in_features=10, out_features=20, bias=True)\n",
      "  (fc4): Linear(in_features=20, out_features=20, bias=True)\n",
      ")\n"
     ]
    },
    {
     "data": {
      "image/png": "[encoded data removed]",
      "text/plain": [
       "<Figure size 432x288 with 1 Axes>"
      ]
     },
     "metadata": {
      "needs_background": "light"
     },
     "output_type": "display_data"
    }
   ],
   "source": [
    "dtensor = torch.FloatTensor(df_test.to_numpy())\n",
    "device = torch.device(\"cpu\")\n",
    "model = VAE(num_feats = 20,latent_dims=2).to(device)\n",
    "print(model)\n",
    "optimizer = optim.Adam(model.parameters(), lr=1e-3)\n",
    "\n",
    "rmse,model_out = train_model(data_array=dtensor,model_in=model,\n",
    "                optimizer_in=optimizer,device_in=device,epochs=100,batch_size=125)"
   ]
  },
  {
   "cell_type": "code",
   "execution_count": 25,
   "id": "4a9ac5f9",
   "metadata": {},
   "outputs": [],
   "source": [
    "from torch.nn import BCELoss"
   ]
  },
  {
   "cell_type": "code",
   "execution_count": 26,
   "id": "fa8a1d3a",
   "metadata": {},
   "outputs": [],
   "source": [
    "def vae_imputation(model_in,df_true,df_missing,mask_df,feature_type):\n",
    "    df_out = df_missing.copy()\n",
    "    rmse_out = []\n",
    "    loss_out = []\n",
    "    mask_tensor = torch.FloatTensor(mask_df.to_numpy())\n",
    "    loss = BCELoss()\n",
    "    for i in range(1000): \n",
    "        model_in.eval()\n",
    "        recon,_,_ = model_in.forward(torch.FloatTensor(df_out.to_numpy()))\n",
    "        recon_df  = pd.DataFrame(data=recon.detach().numpy(),columns=mask_df.columns)\n",
    "        df_out[mask_df==True] = recon_df\n",
    "        \n",
    "        for col in feature_type.columns:\n",
    "            \n",
    "            if feature_type[col].values == 'cat':\n",
    "                \n",
    "                df_out[col]   = df_out[col].round()\n",
    "                recon_df[col] = recon_df[col].round()\n",
    "                \n",
    "        \n",
    "        loss_out.append(loss((1-mask_tensor)*torch.FloatTensor(df_true.to_numpy()),\n",
    "                (1-mask_tensor)*torch.FloatTensor(recon_df.to_numpy())).item())\n",
    "        \n",
    "        rmse_out.append(RMSE(mask_df.to_numpy()*df_true.to_numpy(),mask_df.to_numpy()*recon_df.to_numpy()))\n",
    "    return df_out,rmse_out,loss_out"
   ]
  },
  {
   "cell_type": "code",
   "execution_count": 27,
   "id": "451fc435",
   "metadata": {},
   "outputs": [],
   "source": [
    "out,rmse,loss_out =vae_imputation(model_in=model_out,\n",
    "               df_true=df_test,df_missing=df_test_nans_filled,\n",
    "                         mask_df=nan_mask_df,feature_type=col_type)"
   ]
  },
  {
   "cell_type": "code",
   "execution_count": 34,
   "id": "3563c7a2",
   "metadata": {},
   "outputs": [
    {
     "data": {
      "image/png": "[encoded data removed]",
      "text/plain": [
       "<Figure size 432x288 with 1 Axes>"
      ]
     },
     "metadata": {
      "needs_background": "light"
     },
     "output_type": "display_data"
    }
   ],
   "source": [
    "plt.plot(rmse)\n",
    "plt.title('Imputed Value RMSE')\n",
    "plt.show()"
   ]
  },
  {
   "cell_type": "code",
   "execution_count": 35,
   "id": "5238c5b4",
   "metadata": {},
   "outputs": [
    {
     "data": {
      "image/png": "[encoded data removed]",
      "text/plain": [
       "<Figure size 432x288 with 1 Axes>"
      ]
     },
     "metadata": {
      "needs_background": "light"
     },
     "output_type": "display_data"
    }
   ],
   "source": [
    "plt.plot(loss_out)\n",
    "plt.title('BCELoss of non-missing reconstruction')\n",
    "plt.show()"
   ]
  },
  {
   "cell_type": "code",
   "execution_count": 30,
   "id": "0faa9819",
   "metadata": {},
   "outputs": [],
   "source": [
    "from sklearn.impute import KNNImputer"
   ]
  },
  {
   "cell_type": "code",
   "execution_count": 31,
   "id": "80a6096e",
   "metadata": {},
   "outputs": [],
   "source": [
    "imputer = KNNImputer(n_neighbors=2)\n",
    "imputer.fit_transform(df_test_with_nans.to_numpy())\n",
    "knn_imputed = imputer.transform(df_test_with_nans.to_numpy())"
   ]
  },
  {
   "cell_type": "code",
   "execution_count": 32,
   "id": "bc4f058e",
   "metadata": {},
   "outputs": [
    {
     "data": {
      "text/plain": [
       "0.15500663972088455"
      ]
     },
     "execution_count": 32,
     "metadata": {},
     "output_type": "execute_result"
    }
   ],
   "source": [
    "RMSE(df_test.to_numpy(),knn_imputed)"
   ]
  },
  {
   "cell_type": "code",
   "execution_count": 33,
   "id": "12f46b88",
   "metadata": {},
   "outputs": [
    {
     "data": {
      "text/plain": [
       "0.22210103334879797"
      ]
     },
     "execution_count": 33,
     "metadata": {},
     "output_type": "execute_result"
    }
   ],
   "source": [
    "RMSE(df_test.to_numpy(),out.to_numpy())"
   ]
  },
  {
   "cell_type": "code",
   "execution_count": 586,
   "id": "de381008",
   "metadata": {},
   "outputs": [],
   "source": [
    "from sklearn.metrics import mean_absolute_error"
   ]
  },
  {
   "cell_type": "code",
   "execution_count": 589,
   "id": "3ec66414",
   "metadata": {},
   "outputs": [
    {
     "data": {
      "text/plain": [
       "2.1906882055179313"
      ]
     },
     "execution_count": 589,
     "metadata": {},
     "output_type": "execute_result"
    }
   ],
   "source": [
    "mean_absolute_error(scaler.inverse_transform(df_test.to_numpy()),scaler.inverse_transform(knn_imputed))"
   ]
  },
  {
   "cell_type": "code",
   "execution_count": 590,
   "id": "dfbf62db",
   "metadata": {},
   "outputs": [
    {
     "data": {
      "text/plain": [
       "2.243308663482053"
      ]
     },
     "execution_count": 590,
     "metadata": {},
     "output_type": "execute_result"
    }
   ],
   "source": [
    "mean_absolute_error(scaler.inverse_transform(df_test.to_numpy()),scaler.inverse_transform(out.to_numpy()))"
   ]
  },
  {
   "cell_type": "code",
   "execution_count": null,
   "id": "70265e52",
   "metadata": {},
   "outputs": [],
   "source": []
  }
 ],
 "metadata": {
  "kernelspec": {
   "display_name": "Python 3.8.10 64-bit ('tf_env1.': conda)",
   "language": "python",
   "name": "python3810jvsc74a57bd0d62a3a3ce03ba98fc859896d91ce0003b1eb7a8bae8ba053e42c1ba4fa0101c8"
  },
  "language_info": {
   "codemirror_mode": {
    "name": "ipython",
    "version": 3
   },
   "file_extension": ".py",
   "mimetype": "text/x-python",
   "name": "python",
   "nbconvert_exporter": "python",
   "pygments_lexer": "ipython3",
   "version": "3.8.10"
  }
 },
 "nbformat": 4,
 "nbformat_minor": 5
}
