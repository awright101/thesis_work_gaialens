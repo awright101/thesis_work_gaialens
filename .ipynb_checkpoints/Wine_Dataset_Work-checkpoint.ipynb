{
 "cells": [
  {
   "cell_type": "code",
   "execution_count": 1,
   "id": "28c561c9",
   "metadata": {},
   "outputs": [],
   "source": [
    "import pandas as pd\n",
    "import numpy as np\n",
    "import matplotlib as mpl"
   ]
  },
  {
   "cell_type": "code",
   "execution_count": 2,
   "id": "2ac5fbb0",
   "metadata": {},
   "outputs": [
    {
     "data": {
      "text/html": [
       "<div>\n",
       "<style scoped>\n",
       "    .dataframe tbody tr th:only-of-type {\n",
       "        vertical-align: middle;\n",
       "    }\n",
       "\n",
       "    .dataframe tbody tr th {\n",
       "        vertical-align: top;\n",
       "    }\n",
       "\n",
       "    .dataframe thead th {\n",
       "        text-align: right;\n",
       "    }\n",
       "</style>\n",
       "<table border=\"1\" class=\"dataframe\">\n",
       "  <thead>\n",
       "    <tr style=\"text-align: right;\">\n",
       "      <th></th>\n",
       "      <th>fixed_acidity</th>\n",
       "      <th>volatile_acidity</th>\n",
       "      <th>citric_acid</th>\n",
       "      <th>residual_sugar</th>\n",
       "      <th>chlorides</th>\n",
       "      <th>free_sulfur_dioxide</th>\n",
       "      <th>total_sulfur_dioxide</th>\n",
       "      <th>density</th>\n",
       "      <th>pH</th>\n",
       "      <th>sulphates</th>\n",
       "      <th>alcohol</th>\n",
       "      <th>quality</th>\n",
       "      <th>wine_type</th>\n",
       "    </tr>\n",
       "  </thead>\n",
       "  <tbody>\n",
       "    <tr>\n",
       "      <th>0</th>\n",
       "      <td>7.0</td>\n",
       "      <td>0.270</td>\n",
       "      <td>0.36</td>\n",
       "      <td>20.7</td>\n",
       "      <td>0.045</td>\n",
       "      <td>45.0</td>\n",
       "      <td>170.0</td>\n",
       "      <td>1.00100</td>\n",
       "      <td>3.00</td>\n",
       "      <td>0.45</td>\n",
       "      <td>8.8</td>\n",
       "      <td>6</td>\n",
       "      <td>2</td>\n",
       "    </tr>\n",
       "    <tr>\n",
       "      <th>1</th>\n",
       "      <td>6.3</td>\n",
       "      <td>0.300</td>\n",
       "      <td>0.34</td>\n",
       "      <td>1.6</td>\n",
       "      <td>0.049</td>\n",
       "      <td>14.0</td>\n",
       "      <td>132.0</td>\n",
       "      <td>0.99400</td>\n",
       "      <td>3.30</td>\n",
       "      <td>0.49</td>\n",
       "      <td>9.5</td>\n",
       "      <td>6</td>\n",
       "      <td>2</td>\n",
       "    </tr>\n",
       "    <tr>\n",
       "      <th>2</th>\n",
       "      <td>8.1</td>\n",
       "      <td>0.280</td>\n",
       "      <td>0.40</td>\n",
       "      <td>6.9</td>\n",
       "      <td>0.050</td>\n",
       "      <td>30.0</td>\n",
       "      <td>97.0</td>\n",
       "      <td>0.99510</td>\n",
       "      <td>3.26</td>\n",
       "      <td>0.44</td>\n",
       "      <td>10.1</td>\n",
       "      <td>6</td>\n",
       "      <td>2</td>\n",
       "    </tr>\n",
       "    <tr>\n",
       "      <th>3</th>\n",
       "      <td>7.2</td>\n",
       "      <td>0.230</td>\n",
       "      <td>0.32</td>\n",
       "      <td>8.5</td>\n",
       "      <td>0.058</td>\n",
       "      <td>47.0</td>\n",
       "      <td>186.0</td>\n",
       "      <td>0.99560</td>\n",
       "      <td>3.19</td>\n",
       "      <td>0.40</td>\n",
       "      <td>9.9</td>\n",
       "      <td>6</td>\n",
       "      <td>2</td>\n",
       "    </tr>\n",
       "    <tr>\n",
       "      <th>4</th>\n",
       "      <td>7.2</td>\n",
       "      <td>0.230</td>\n",
       "      <td>0.32</td>\n",
       "      <td>8.5</td>\n",
       "      <td>0.058</td>\n",
       "      <td>47.0</td>\n",
       "      <td>186.0</td>\n",
       "      <td>0.99560</td>\n",
       "      <td>3.19</td>\n",
       "      <td>0.40</td>\n",
       "      <td>9.9</td>\n",
       "      <td>6</td>\n",
       "      <td>2</td>\n",
       "    </tr>\n",
       "    <tr>\n",
       "      <th>...</th>\n",
       "      <td>...</td>\n",
       "      <td>...</td>\n",
       "      <td>...</td>\n",
       "      <td>...</td>\n",
       "      <td>...</td>\n",
       "      <td>...</td>\n",
       "      <td>...</td>\n",
       "      <td>...</td>\n",
       "      <td>...</td>\n",
       "      <td>...</td>\n",
       "      <td>...</td>\n",
       "      <td>...</td>\n",
       "      <td>...</td>\n",
       "    </tr>\n",
       "    <tr>\n",
       "      <th>6492</th>\n",
       "      <td>6.2</td>\n",
       "      <td>0.600</td>\n",
       "      <td>0.08</td>\n",
       "      <td>2.0</td>\n",
       "      <td>0.090</td>\n",
       "      <td>32.0</td>\n",
       "      <td>44.0</td>\n",
       "      <td>0.99490</td>\n",
       "      <td>3.45</td>\n",
       "      <td>0.58</td>\n",
       "      <td>10.5</td>\n",
       "      <td>5</td>\n",
       "      <td>1</td>\n",
       "    </tr>\n",
       "    <tr>\n",
       "      <th>6493</th>\n",
       "      <td>5.9</td>\n",
       "      <td>0.550</td>\n",
       "      <td>0.10</td>\n",
       "      <td>2.2</td>\n",
       "      <td>0.062</td>\n",
       "      <td>39.0</td>\n",
       "      <td>51.0</td>\n",
       "      <td>0.99512</td>\n",
       "      <td>3.52</td>\n",
       "      <td>0.76</td>\n",
       "      <td>11.2</td>\n",
       "      <td>6</td>\n",
       "      <td>1</td>\n",
       "    </tr>\n",
       "    <tr>\n",
       "      <th>6494</th>\n",
       "      <td>6.3</td>\n",
       "      <td>0.510</td>\n",
       "      <td>0.13</td>\n",
       "      <td>2.3</td>\n",
       "      <td>0.076</td>\n",
       "      <td>29.0</td>\n",
       "      <td>40.0</td>\n",
       "      <td>0.99574</td>\n",
       "      <td>3.42</td>\n",
       "      <td>0.75</td>\n",
       "      <td>11.0</td>\n",
       "      <td>6</td>\n",
       "      <td>1</td>\n",
       "    </tr>\n",
       "    <tr>\n",
       "      <th>6495</th>\n",
       "      <td>5.9</td>\n",
       "      <td>0.645</td>\n",
       "      <td>0.12</td>\n",
       "      <td>2.0</td>\n",
       "      <td>0.075</td>\n",
       "      <td>32.0</td>\n",
       "      <td>44.0</td>\n",
       "      <td>0.99547</td>\n",
       "      <td>3.57</td>\n",
       "      <td>0.71</td>\n",
       "      <td>10.2</td>\n",
       "      <td>5</td>\n",
       "      <td>1</td>\n",
       "    </tr>\n",
       "    <tr>\n",
       "      <th>6496</th>\n",
       "      <td>6.0</td>\n",
       "      <td>0.310</td>\n",
       "      <td>0.47</td>\n",
       "      <td>3.6</td>\n",
       "      <td>0.067</td>\n",
       "      <td>18.0</td>\n",
       "      <td>42.0</td>\n",
       "      <td>0.99549</td>\n",
       "      <td>3.39</td>\n",
       "      <td>0.66</td>\n",
       "      <td>11.0</td>\n",
       "      <td>6</td>\n",
       "      <td>1</td>\n",
       "    </tr>\n",
       "  </tbody>\n",
       "</table>\n",
       "<p>6497 rows × 13 columns</p>\n",
       "</div>"
      ],
      "text/plain": [
       "      fixed_acidity  volatile_acidity  citric_acid  residual_sugar  chlorides  \\\n",
       "0               7.0             0.270         0.36            20.7      0.045   \n",
       "1               6.3             0.300         0.34             1.6      0.049   \n",
       "2               8.1             0.280         0.40             6.9      0.050   \n",
       "3               7.2             0.230         0.32             8.5      0.058   \n",
       "4               7.2             0.230         0.32             8.5      0.058   \n",
       "...             ...               ...          ...             ...        ...   \n",
       "6492            6.2             0.600         0.08             2.0      0.090   \n",
       "6493            5.9             0.550         0.10             2.2      0.062   \n",
       "6494            6.3             0.510         0.13             2.3      0.076   \n",
       "6495            5.9             0.645         0.12             2.0      0.075   \n",
       "6496            6.0             0.310         0.47             3.6      0.067   \n",
       "\n",
       "      free_sulfur_dioxide  total_sulfur_dioxide  density    pH  sulphates  \\\n",
       "0                    45.0                 170.0  1.00100  3.00       0.45   \n",
       "1                    14.0                 132.0  0.99400  3.30       0.49   \n",
       "2                    30.0                  97.0  0.99510  3.26       0.44   \n",
       "3                    47.0                 186.0  0.99560  3.19       0.40   \n",
       "4                    47.0                 186.0  0.99560  3.19       0.40   \n",
       "...                   ...                   ...      ...   ...        ...   \n",
       "6492                 32.0                  44.0  0.99490  3.45       0.58   \n",
       "6493                 39.0                  51.0  0.99512  3.52       0.76   \n",
       "6494                 29.0                  40.0  0.99574  3.42       0.75   \n",
       "6495                 32.0                  44.0  0.99547  3.57       0.71   \n",
       "6496                 18.0                  42.0  0.99549  3.39       0.66   \n",
       "\n",
       "      alcohol  quality  wine_type  \n",
       "0         8.8        6          2  \n",
       "1         9.5        6          2  \n",
       "2        10.1        6          2  \n",
       "3         9.9        6          2  \n",
       "4         9.9        6          2  \n",
       "...       ...      ...        ...  \n",
       "6492     10.5        5          1  \n",
       "6493     11.2        6          1  \n",
       "6494     11.0        6          1  \n",
       "6495     10.2        5          1  \n",
       "6496     11.0        6          1  \n",
       "\n",
       "[6497 rows x 13 columns]"
      ]
     },
     "execution_count": 2,
     "metadata": {},
     "output_type": "execute_result"
    }
   ],
   "source": [
    "wine_df = pd.read_csv('data/wine.csv')\n",
    "#dropping catagorical features, quality and type\n",
    "wine_df"
   ]
  },
  {
   "cell_type": "code",
   "execution_count": 3,
   "id": "395b2c90",
   "metadata": {},
   "outputs": [],
   "source": [
    "df = pd.concat([wine_df,pd.get_dummies(wine_df.quality,prefix='quality'),pd.get_dummies(wine_df.wine_type,prefix='wine_type')],axis=1)"
   ]
  },
  {
   "cell_type": "code",
   "execution_count": 4,
   "id": "77def25c",
   "metadata": {},
   "outputs": [],
   "source": [
    "df = df.drop(['quality','wine_type'],axis=1)"
   ]
  },
  {
   "cell_type": "code",
   "execution_count": 5,
   "id": "9c39411c",
   "metadata": {},
   "outputs": [
    {
     "data": {
      "text/plain": [
       "2    4898\n",
       "1    1599\n",
       "Name: wine_type, dtype: int64"
      ]
     },
     "execution_count": 5,
     "metadata": {},
     "output_type": "execute_result"
    }
   ],
   "source": [
    "wine_df.wine_type.value_counts()"
   ]
  },
  {
   "cell_type": "code",
   "execution_count": 6,
   "id": "fb1c52af",
   "metadata": {},
   "outputs": [
    {
     "data": {
      "text/plain": [
       "6    2836\n",
       "5    2138\n",
       "7    1079\n",
       "4     216\n",
       "8     193\n",
       "3      30\n",
       "9       5\n",
       "Name: quality, dtype: int64"
      ]
     },
     "execution_count": 6,
     "metadata": {},
     "output_type": "execute_result"
    }
   ],
   "source": [
    "wine_df.quality.value_counts()"
   ]
  },
  {
   "cell_type": "code",
   "execution_count": 7,
   "id": "da1f6867",
   "metadata": {
    "scrolled": true
   },
   "outputs": [],
   "source": [
    "dfshape = df.shape"
   ]
  },
  {
   "cell_type": "code",
   "execution_count": 8,
   "id": "33031236",
   "metadata": {},
   "outputs": [
    {
     "data": {
      "text/plain": [
       "0.045"
      ]
     },
     "execution_count": 8,
     "metadata": {},
     "output_type": "execute_result"
    }
   ],
   "source": [
    "df.iloc[0,4]"
   ]
  },
  {
   "cell_type": "markdown",
   "id": "6971a6ac",
   "metadata": {},
   "source": [
    "Need to figure out some random locs to sub sample, we can do this based on a percentage of rows/colums or total points"
   ]
  },
  {
   "cell_type": "code",
   "execution_count": 13,
   "id": "cf74e369",
   "metadata": {},
   "outputs": [],
   "source": [
    "def random_loc(data_frame_shape):\n",
    "    col = np.random.randint(0,data_frame_shape[1])\n",
    "    row = np.random.randint(0,data_frame_shape[0])\n",
    "    return row,col"
   ]
  },
  {
   "cell_type": "code",
   "execution_count": 14,
   "id": "2151e218",
   "metadata": {},
   "outputs": [
    {
     "data": {
      "text/plain": [
       "(1283, 3)"
      ]
     },
     "execution_count": 14,
     "metadata": {},
     "output_type": "execute_result"
    }
   ],
   "source": [
    "random_loc(dfshape)"
   ]
  },
  {
   "cell_type": "code",
   "execution_count": 15,
   "id": "d8f67635",
   "metadata": {},
   "outputs": [
    {
     "data": {
      "text/plain": [
       "2001"
      ]
     },
     "execution_count": 15,
     "metadata": {},
     "output_type": "execute_result"
    }
   ],
   "source": [
    "random_loc(dfshape)[0]"
   ]
  },
  {
   "cell_type": "code",
   "execution_count": 16,
   "id": "f95f9922",
   "metadata": {},
   "outputs": [
    {
     "data": {
      "text/plain": [
       "0"
      ]
     },
     "execution_count": 16,
     "metadata": {},
     "output_type": "execute_result"
    }
   ],
   "source": [
    "df.iloc[random_loc(dfshape)[0],random_loc(dfshape)[1]]"
   ]
  },
  {
   "cell_type": "code",
   "execution_count": 17,
   "id": "63c02611",
   "metadata": {},
   "outputs": [],
   "source": [
    "def induce_missingness(dataframe,percent):\n",
    "    num2nan = int(dataframe.shape[0]*dataframe.shape[1]*percent)\n",
    "    \n",
    "    dfout = dataframe.copy()\n",
    "    \n",
    "    for _ in range(num2nan): \n",
    "        \n",
    "        randloc = random_loc(dataframe.shape)\n",
    "        \n",
    "        while dfout.iloc[randloc[0],randloc[1]] == np.nan:\n",
    "            randloc = random_loc(dataframe.shape)\n",
    "            \n",
    "        dfout.iloc[randloc[0],randloc[1]] = np.nan\n",
    "        \n",
    "        \n",
    "    \n",
    "    return dfout \n",
    "    "
   ]
  },
  {
   "cell_type": "code",
   "execution_count": 98,
   "id": "2073c9d1",
   "metadata": {},
   "outputs": [],
   "source": [
    "dout = induce_missingness(df,0.01)"
   ]
  },
  {
   "cell_type": "code",
   "execution_count": 194,
   "id": "7f399eb6",
   "metadata": {},
   "outputs": [
    {
     "data": {
      "text/plain": [
       "(6497, 20)"
      ]
     },
     "execution_count": 194,
     "metadata": {},
     "output_type": "execute_result"
    }
   ],
   "source": [
    "df.shape"
   ]
  },
  {
   "cell_type": "code",
   "execution_count": 99,
   "id": "2e9067fb",
   "metadata": {},
   "outputs": [],
   "source": [
    "from sklearn.preprocessing import MinMaxScaler"
   ]
  },
  {
   "cell_type": "code",
   "execution_count": 100,
   "id": "08e39fe7",
   "metadata": {},
   "outputs": [],
   "source": [
    "scaler = MinMaxScaler()\n",
    "scaler.fit(df.to_numpy())\n",
    "df_scaled = pd.DataFrame(data=scaler.transform(df.to_numpy()),columns=df.columns)"
   ]
  },
  {
   "cell_type": "code",
   "execution_count": 400,
   "id": "ed83d857",
   "metadata": {},
   "outputs": [
    {
     "data": {
      "text/html": [
       "<div>\n",
       "<style scoped>\n",
       "    .dataframe tbody tr th:only-of-type {\n",
       "        vertical-align: middle;\n",
       "    }\n",
       "\n",
       "    .dataframe tbody tr th {\n",
       "        vertical-align: top;\n",
       "    }\n",
       "\n",
       "    .dataframe thead th {\n",
       "        text-align: right;\n",
       "    }\n",
       "</style>\n",
       "<table border=\"1\" class=\"dataframe\">\n",
       "  <thead>\n",
       "    <tr style=\"text-align: right;\">\n",
       "      <th></th>\n",
       "      <th>fixed_acidity</th>\n",
       "      <th>volatile_acidity</th>\n",
       "      <th>citric_acid</th>\n",
       "      <th>residual_sugar</th>\n",
       "      <th>chlorides</th>\n",
       "      <th>free_sulfur_dioxide</th>\n",
       "      <th>total_sulfur_dioxide</th>\n",
       "      <th>density</th>\n",
       "      <th>pH</th>\n",
       "      <th>sulphates</th>\n",
       "      <th>alcohol</th>\n",
       "      <th>quality_3</th>\n",
       "      <th>quality_4</th>\n",
       "      <th>quality_5</th>\n",
       "      <th>quality_6</th>\n",
       "      <th>quality_7</th>\n",
       "      <th>quality_8</th>\n",
       "      <th>quality_9</th>\n",
       "      <th>wine_type_1</th>\n",
       "      <th>wine_type_2</th>\n",
       "    </tr>\n",
       "  </thead>\n",
       "  <tbody>\n",
       "    <tr>\n",
       "      <th>0</th>\n",
       "      <td>num</td>\n",
       "      <td>num</td>\n",
       "      <td>num</td>\n",
       "      <td>num</td>\n",
       "      <td>num</td>\n",
       "      <td>num</td>\n",
       "      <td>num</td>\n",
       "      <td>num</td>\n",
       "      <td>num</td>\n",
       "      <td>num</td>\n",
       "      <td>num</td>\n",
       "      <td>cat</td>\n",
       "      <td>cat</td>\n",
       "      <td>cat</td>\n",
       "      <td>cat</td>\n",
       "      <td>cat</td>\n",
       "      <td>cat</td>\n",
       "      <td>cat</td>\n",
       "      <td>cat</td>\n",
       "      <td>cat</td>\n",
       "    </tr>\n",
       "  </tbody>\n",
       "</table>\n",
       "</div>"
      ],
      "text/plain": [
       "  fixed_acidity volatile_acidity citric_acid residual_sugar chlorides  \\\n",
       "0           num              num         num            num       num   \n",
       "\n",
       "  free_sulfur_dioxide total_sulfur_dioxide density   pH sulphates alcohol  \\\n",
       "0                 num                  num     num  num       num     num   \n",
       "\n",
       "  quality_3 quality_4 quality_5 quality_6 quality_7 quality_8 quality_9  \\\n",
       "0       cat       cat       cat       cat       cat       cat       cat   \n",
       "\n",
       "  wine_type_1 wine_type_2  \n",
       "0         cat         cat  "
      ]
     },
     "execution_count": 400,
     "metadata": {},
     "output_type": "execute_result"
    }
   ],
   "source": [
    "col_type = pd.DataFrame(data=np.array([np.nan]*20).reshape(1,20),columns=df_scaled.columns)\n",
    "for col in df_scaled.columns:\n",
    "    #print(col,len(df_scaled[col].unique()))\n",
    "    \n",
    "    if len(df_scaled[col].unique()) < 3:\n",
    "        col_type[col] = 'cat'\n",
    "    else:\n",
    "        col_type[col] = 'num'\n",
    "col_type.head(5)"
   ]
  },
  {
   "cell_type": "code",
   "execution_count": 195,
   "id": "2d314d32",
   "metadata": {},
   "outputs": [],
   "source": [
    "darray = df_scaled"
   ]
  },
  {
   "cell_type": "code",
   "execution_count": 88,
   "id": "f86f4639",
   "metadata": {},
   "outputs": [],
   "source": [
    "from Models.simple_VAE import VAE\n",
    "import argparse\n",
    "import torch\n",
    "import torch.utils.data \n",
    "from torch.utils.data import DataLoader\n",
    "from torch import nn, optim\n",
    "from torch.nn import functional as F\n",
    "from torchvision import datasets, transforms\n",
    "from torchvision.utils import save_image\n",
    "import matplotlib.pyplot as plt\n",
    "from sklearn.manifold import TSNE"
   ]
  },
  {
   "cell_type": "code",
   "execution_count": 89,
   "id": "766e1cae",
   "metadata": {},
   "outputs": [],
   "source": [
    "def RMSE(darray,recon):\n",
    "    return np.sqrt(np.mean(np.square(darray - recon)))"
   ]
  },
  {
   "cell_type": "code",
   "execution_count": 91,
   "id": "f20f4966",
   "metadata": {},
   "outputs": [
    {
     "ename": "NameError",
     "evalue": "name 'darray' is not defined",
     "output_type": "error",
     "traceback": [
      "\u001b[0;31m---------------------------------------------------------------------------\u001b[0m",
      "\u001b[0;31mNameError\u001b[0m                                 Traceback (most recent call last)",
      "\u001b[0;32m<ipython-input-91-806feb89f5bb>\u001b[0m in \u001b[0;36m<module>\u001b[0;34m\u001b[0m\n\u001b[1;32m      1\u001b[0m \u001b[0;31m#Sending scaled data to device\u001b[0m\u001b[0;34m\u001b[0m\u001b[0;34m\u001b[0m\u001b[0;34m\u001b[0m\u001b[0m\n\u001b[1;32m      2\u001b[0m \u001b[0;34m\u001b[0m\u001b[0m\n\u001b[0;32m----> 3\u001b[0;31m \u001b[0mdtensor\u001b[0m \u001b[0;34m=\u001b[0m \u001b[0mtorch\u001b[0m\u001b[0;34m.\u001b[0m\u001b[0mFloatTensor\u001b[0m\u001b[0;34m(\u001b[0m\u001b[0mdarray\u001b[0m\u001b[0;34m[\u001b[0m\u001b[0;36m100\u001b[0m\u001b[0;34m:\u001b[0m\u001b[0;34m,\u001b[0m\u001b[0;34m:\u001b[0m\u001b[0;34m]\u001b[0m\u001b[0;34m)\u001b[0m\u001b[0;34m\u001b[0m\u001b[0;34m\u001b[0m\u001b[0m\n\u001b[0m\u001b[1;32m      4\u001b[0m \u001b[0mdevice\u001b[0m \u001b[0;34m=\u001b[0m \u001b[0mtorch\u001b[0m\u001b[0;34m.\u001b[0m\u001b[0mdevice\u001b[0m\u001b[0;34m(\u001b[0m\u001b[0;34m\"cpu\"\u001b[0m\u001b[0;34m)\u001b[0m\u001b[0;34m\u001b[0m\u001b[0;34m\u001b[0m\u001b[0m\n\u001b[1;32m      5\u001b[0m \u001b[0mmodel\u001b[0m \u001b[0;34m=\u001b[0m \u001b[0mVAE\u001b[0m\u001b[0;34m(\u001b[0m\u001b[0mnum_feats\u001b[0m \u001b[0;34m=\u001b[0m \u001b[0;36m20\u001b[0m\u001b[0;34m,\u001b[0m\u001b[0mlatent_dims\u001b[0m\u001b[0;34m=\u001b[0m\u001b[0;36m2\u001b[0m\u001b[0;34m)\u001b[0m\u001b[0;34m.\u001b[0m\u001b[0mto\u001b[0m\u001b[0;34m(\u001b[0m\u001b[0mdevice\u001b[0m\u001b[0;34m)\u001b[0m\u001b[0;34m\u001b[0m\u001b[0;34m\u001b[0m\u001b[0m\n",
      "\u001b[0;31mNameError\u001b[0m: name 'darray' is not defined"
     ]
    }
   ],
   "source": [
    "   #Sending scaled data to device\n",
    "\n",
    "dtensor = torch.FloatTensor(darray[100:,:])\n",
    "device = torch.device(\"cpu\")\n",
    "model = VAE(num_feats = 20,latent_dims=2).to(device)\n",
    "optimizer = optim.Adam(model.parameters(), lr=1e-4)\n",
    "\n",
    "\n",
    "\n",
    "\n",
    "\n",
    "#train_model()"
   ]
  },
  {
   "cell_type": "code",
   "execution_count": 148,
   "id": "bbc3b389",
   "metadata": {},
   "outputs": [],
   "source": [
    "def train_model(data_array=dtensor,model_in=model,\n",
    "                optimizer_in=optimizer,device_in=device,epochs=50,batch_size=125):\n",
    "    \n",
    "    \n",
    "    data_iter = DataLoader(dtensor,batch_size=batch_size, shuffle=True)\n",
    "    model_in.train()\n",
    "\n",
    "    loss_store = []\n",
    "\n",
    "    for epoch in range(epochs): \n",
    "        for (idx, batch) in enumerate(data_iter):\n",
    "        \n",
    "        \n",
    "            batch_in = batch.float()\n",
    "            optimizer_in.zero_grad()\n",
    "        \n",
    "            drecon,mu,log_var =  model_in.forward(batch_in)\n",
    "            \n",
    "            loss = model_in.loss(drecon, batch_in)\n",
    "            loss.backward()\n",
    "            optimizer_in.step()\n",
    "\n",
    "\n",
    "        loss_store.append(loss.item())\n",
    "\n",
    "    \n",
    "    plt.plot(loss_store)\n",
    "    plt.show()\n",
    "\n",
    "    model_in.eval()\n",
    "    drecon,mu,log_var =  model(dtensor)\n",
    "    recon_array = drecon.detach().numpy()\n",
    "    input_array = dtensor.detach().numpy()#dtensor.detach().numpy()\n",
    "\n",
    "    return RMSE(input_array,recon_array),model_in"
   ]
  },
  {
   "cell_type": "code",
   "execution_count": 149,
   "id": "e797f8bb",
   "metadata": {},
   "outputs": [
    {
     "ename": "NameError",
     "evalue": "name 'test' is not defined",
     "output_type": "error",
     "traceback": [
      "\u001b[0;31m---------------------------------------------------------------------------\u001b[0m",
      "\u001b[0;31mNameError\u001b[0m                                 Traceback (most recent call last)",
      "\u001b[0;32m<ipython-input-149-65d5429c6221>\u001b[0m in \u001b[0;36m<module>\u001b[0;34m\u001b[0m\n\u001b[0;32m----> 1\u001b[0;31m \u001b[0mtest_recon\u001b[0m\u001b[0;34m,\u001b[0m\u001b[0mmu_test\u001b[0m\u001b[0;34m,\u001b[0m\u001b[0mlog_var\u001b[0m \u001b[0;34m=\u001b[0m \u001b[0mmodel\u001b[0m\u001b[0;34m(\u001b[0m\u001b[0mtorch\u001b[0m\u001b[0;34m.\u001b[0m\u001b[0mFloatTensor\u001b[0m\u001b[0;34m(\u001b[0m\u001b[0mtest\u001b[0m\u001b[0;34m)\u001b[0m\u001b[0;34m)\u001b[0m\u001b[0;34m\u001b[0m\u001b[0;34m\u001b[0m\u001b[0m\n\u001b[0m\u001b[1;32m      2\u001b[0m \u001b[0mz\u001b[0m \u001b[0;34m=\u001b[0m \u001b[0mmodel\u001b[0m\u001b[0;34m.\u001b[0m\u001b[0mreparam\u001b[0m\u001b[0;34m(\u001b[0m\u001b[0mmu_test\u001b[0m\u001b[0;34m,\u001b[0m\u001b[0mlog_var\u001b[0m\u001b[0;34m)\u001b[0m\u001b[0;34m.\u001b[0m\u001b[0mdetach\u001b[0m\u001b[0;34m(\u001b[0m\u001b[0;34m)\u001b[0m\u001b[0;34m.\u001b[0m\u001b[0mnumpy\u001b[0m\u001b[0;34m(\u001b[0m\u001b[0;34m)\u001b[0m\u001b[0;34m\u001b[0m\u001b[0;34m\u001b[0m\u001b[0m\n",
      "\u001b[0;31mNameError\u001b[0m: name 'test' is not defined"
     ]
    }
   ],
   "source": [
    "test_recon,mu_test,log_var = model(torch.FloatTensor(test))\n",
    "z = model.reparam(mu_test,log_var).detach().numpy()"
   ]
  },
  {
   "cell_type": "code",
   "execution_count": 309,
   "id": "f497afb4",
   "metadata": {},
   "outputs": [],
   "source": [
    "\n",
    "z_embedded = TSNE(n_components=2).fit_transform(z)\n",
    "#>>> X_embedded.shape\n",
    "#print(z_embedded)"
   ]
  },
  {
   "cell_type": "code",
   "execution_count": 335,
   "id": "fda91308",
   "metadata": {},
   "outputs": [
    {
     "data": {
      "image/png": "[encoded data removed]",
      "text/plain": [
       "<Figure size 432x288 with 2 Axes>"
      ]
     },
     "metadata": {
      "needs_background": "light"
     },
     "output_type": "display_data"
    }
   ],
   "source": [
    "colours = wine_df['quality'].iloc[:100].to_numpy()\n",
    "bounds = list(set(wine_df['quality'].iloc[:100].to_numpy()))\n",
    "sc = plt.scatter(z_embedded[:,0],z_embedded[:,1],c=colours, cmap='tab10')\n",
    "plt.colorbar(sc, ticks=bounds)\n",
    "plt.show()"
   ]
  },
  {
   "cell_type": "code",
   "execution_count": 18,
   "id": "9f483fdf",
   "metadata": {},
   "outputs": [],
   "source": [
    "def plot_latent_space(data_in,model_in,labels):\n",
    "    \"\"\"\"\"\"\n",
    "    test_recon3,mu_out,log_out = model_in(torch.FloatTensor(data_in))\n",
    "    zout = model_in.reparam(mu_out,log_out).detach().numpy()\n",
    "    \n",
    "    z_emb  = TSNE(n_components=2).fit_transform(zout)\n",
    "    \n",
    "    colours = labels.to_numpy()\n",
    "    bounds = list(set(labels.to_numpy()))\n",
    "    sc = plt.scatter(z_emb[:,0],z_emb[:,1],c=colours, cmap='tab10')\n",
    "    plt.colorbar(sc, ticks=bounds)\n",
    "    plt.show()"
   ]
  },
  {
   "cell_type": "code",
   "execution_count": 343,
   "id": "c3e90095",
   "metadata": {},
   "outputs": [
    {
     "data": {
      "image/png": "[encoded data removed]",
      "text/plain": [
       "<Figure size 432x288 with 2 Axes>"
      ]
     },
     "metadata": {
      "needs_background": "light"
     },
     "output_type": "display_data"
    }
   ],
   "source": [
    "plot_latent_space(test,model,wine_df['quality'].iloc[:100])"
   ]
  },
  {
   "cell_type": "code",
   "execution_count": 346,
   "id": "aa18141c",
   "metadata": {},
   "outputs": [
    {
     "data": {
      "image/png": "[encoded data removed]",
      "text/plain": [
       "<Figure size 432x288 with 2 Axes>"
      ]
     },
     "metadata": {
      "needs_background": "light"
     },
     "output_type": "display_data"
    }
   ],
   "source": [
    "plot_latent_space(darray[100:,:],model,wine_df['wine_type'].iloc[100:]) "
   ]
  },
  {
   "cell_type": "code",
   "execution_count": 595,
   "id": "99c049c4",
   "metadata": {},
   "outputs": [],
   "source": [
    "df_shuffle = df_scaled.sample(frac=1)\n",
    "df_test    = df_shuffle.iloc[:,:].reset_index(drop=True)\n",
    "df_train   = df_shuffle.iloc[:-1200,:].reset_index(drop=True)\n",
    "#roughly 20% train test split"
   ]
  },
  {
   "cell_type": "code",
   "execution_count": 596,
   "id": "97d12b9d",
   "metadata": {},
   "outputs": [
    {
     "data": {
      "text/html": [
       "<div>\n",
       "<style scoped>\n",
       "    .dataframe tbody tr th:only-of-type {\n",
       "        vertical-align: middle;\n",
       "    }\n",
       "\n",
       "    .dataframe tbody tr th {\n",
       "        vertical-align: top;\n",
       "    }\n",
       "\n",
       "    .dataframe thead th {\n",
       "        text-align: right;\n",
       "    }\n",
       "</style>\n",
       "<table border=\"1\" class=\"dataframe\">\n",
       "  <thead>\n",
       "    <tr style=\"text-align: right;\">\n",
       "      <th></th>\n",
       "      <th>fixed_acidity</th>\n",
       "      <th>volatile_acidity</th>\n",
       "      <th>citric_acid</th>\n",
       "      <th>residual_sugar</th>\n",
       "      <th>chlorides</th>\n",
       "      <th>free_sulfur_dioxide</th>\n",
       "      <th>total_sulfur_dioxide</th>\n",
       "      <th>density</th>\n",
       "      <th>pH</th>\n",
       "      <th>sulphates</th>\n",
       "      <th>alcohol</th>\n",
       "      <th>quality_3</th>\n",
       "      <th>quality_4</th>\n",
       "      <th>quality_5</th>\n",
       "      <th>quality_6</th>\n",
       "      <th>quality_7</th>\n",
       "      <th>quality_8</th>\n",
       "      <th>quality_9</th>\n",
       "      <th>wine_type_1</th>\n",
       "      <th>wine_type_2</th>\n",
       "    </tr>\n",
       "  </thead>\n",
       "  <tbody>\n",
       "    <tr>\n",
       "      <th>0</th>\n",
       "      <td>0.239669</td>\n",
       "      <td>0.193333</td>\n",
       "      <td>0.150090</td>\n",
       "      <td>0.029141</td>\n",
       "      <td>0.031561</td>\n",
       "      <td>0.079861</td>\n",
       "      <td>0.179724</td>\n",
       "      <td>0.073039</td>\n",
       "      <td>0.325581</td>\n",
       "      <td>0.078652</td>\n",
       "      <td>0.536232</td>\n",
       "      <td>0.0</td>\n",
       "      <td>0.0</td>\n",
       "      <td>0.0</td>\n",
       "      <td>1.0</td>\n",
       "      <td>0.0</td>\n",
       "      <td>0.0</td>\n",
       "      <td>0.0</td>\n",
       "      <td>0.0</td>\n",
       "      <td>1.0</td>\n",
       "    </tr>\n",
       "    <tr>\n",
       "      <th>1</th>\n",
       "      <td>0.272727</td>\n",
       "      <td>0.040000</td>\n",
       "      <td>0.198312</td>\n",
       "      <td>0.006135</td>\n",
       "      <td>0.157807</td>\n",
       "      <td>0.065972</td>\n",
       "      <td>0.110599</td>\n",
       "      <td>0.066680</td>\n",
       "      <td>0.364341</td>\n",
       "      <td>0.235955</td>\n",
       "      <td>0.507246</td>\n",
       "      <td>0.0</td>\n",
       "      <td>0.0</td>\n",
       "      <td>0.0</td>\n",
       "      <td>1.0</td>\n",
       "      <td>0.0</td>\n",
       "      <td>0.0</td>\n",
       "      <td>0.0</td>\n",
       "      <td>0.0</td>\n",
       "      <td>1.0</td>\n",
       "    </tr>\n",
       "    <tr>\n",
       "      <th>2</th>\n",
       "      <td>0.595041</td>\n",
       "      <td>0.146667</td>\n",
       "      <td>0.349005</td>\n",
       "      <td>0.023006</td>\n",
       "      <td>0.074751</td>\n",
       "      <td>0.020833</td>\n",
       "      <td>0.029954</td>\n",
       "      <td>0.209867</td>\n",
       "      <td>0.457364</td>\n",
       "      <td>0.370787</td>\n",
       "      <td>0.362319</td>\n",
       "      <td>0.0</td>\n",
       "      <td>0.0</td>\n",
       "      <td>0.0</td>\n",
       "      <td>0.0</td>\n",
       "      <td>1.0</td>\n",
       "      <td>0.0</td>\n",
       "      <td>0.0</td>\n",
       "      <td>1.0</td>\n",
       "      <td>0.0</td>\n",
       "    </tr>\n",
       "    <tr>\n",
       "      <th>3</th>\n",
       "      <td>0.214876</td>\n",
       "      <td>0.120000</td>\n",
       "      <td>0.125980</td>\n",
       "      <td>0.099693</td>\n",
       "      <td>0.051495</td>\n",
       "      <td>0.118056</td>\n",
       "      <td>0.359447</td>\n",
       "      <td>0.163615</td>\n",
       "      <td>0.519380</td>\n",
       "      <td>0.202247</td>\n",
       "      <td>0.275362</td>\n",
       "      <td>0.0</td>\n",
       "      <td>0.0</td>\n",
       "      <td>0.0</td>\n",
       "      <td>1.0</td>\n",
       "      <td>0.0</td>\n",
       "      <td>0.0</td>\n",
       "      <td>0.0</td>\n",
       "      <td>0.0</td>\n",
       "      <td>1.0</td>\n",
       "    </tr>\n",
       "    <tr>\n",
       "      <th>4</th>\n",
       "      <td>0.165289</td>\n",
       "      <td>0.173333</td>\n",
       "      <td>0.125980</td>\n",
       "      <td>0.101227</td>\n",
       "      <td>0.053156</td>\n",
       "      <td>0.163194</td>\n",
       "      <td>0.322581</td>\n",
       "      <td>0.140682</td>\n",
       "      <td>0.341085</td>\n",
       "      <td>0.151685</td>\n",
       "      <td>0.260870</td>\n",
       "      <td>0.0</td>\n",
       "      <td>0.0</td>\n",
       "      <td>1.0</td>\n",
       "      <td>0.0</td>\n",
       "      <td>0.0</td>\n",
       "      <td>0.0</td>\n",
       "      <td>0.0</td>\n",
       "      <td>0.0</td>\n",
       "      <td>1.0</td>\n",
       "    </tr>\n",
       "  </tbody>\n",
       "</table>\n",
       "</div>"
      ],
      "text/plain": [
       "   fixed_acidity  volatile_acidity  citric_acid  residual_sugar  chlorides  \\\n",
       "0       0.239669          0.193333     0.150090        0.029141   0.031561   \n",
       "1       0.272727          0.040000     0.198312        0.006135   0.157807   \n",
       "2       0.595041          0.146667     0.349005        0.023006   0.074751   \n",
       "3       0.214876          0.120000     0.125980        0.099693   0.051495   \n",
       "4       0.165289          0.173333     0.125980        0.101227   0.053156   \n",
       "\n",
       "   free_sulfur_dioxide  total_sulfur_dioxide   density        pH  sulphates  \\\n",
       "0             0.079861              0.179724  0.073039  0.325581   0.078652   \n",
       "1             0.065972              0.110599  0.066680  0.364341   0.235955   \n",
       "2             0.020833              0.029954  0.209867  0.457364   0.370787   \n",
       "3             0.118056              0.359447  0.163615  0.519380   0.202247   \n",
       "4             0.163194              0.322581  0.140682  0.341085   0.151685   \n",
       "\n",
       "    alcohol  quality_3  quality_4  quality_5  quality_6  quality_7  quality_8  \\\n",
       "0  0.536232        0.0        0.0        0.0        1.0        0.0        0.0   \n",
       "1  0.507246        0.0        0.0        0.0        1.0        0.0        0.0   \n",
       "2  0.362319        0.0        0.0        0.0        0.0        1.0        0.0   \n",
       "3  0.275362        0.0        0.0        0.0        1.0        0.0        0.0   \n",
       "4  0.260870        0.0        0.0        1.0        0.0        0.0        0.0   \n",
       "\n",
       "   quality_9  wine_type_1  wine_type_2  \n",
       "0        0.0          0.0          1.0  \n",
       "1        0.0          0.0          1.0  \n",
       "2        0.0          1.0          0.0  \n",
       "3        0.0          0.0          1.0  \n",
       "4        0.0          0.0          1.0  "
      ]
     },
     "execution_count": 596,
     "metadata": {},
     "output_type": "execute_result"
    }
   ],
   "source": [
    "df_test.head(5)"
   ]
  },
  {
   "cell_type": "code",
   "execution_count": 597,
   "id": "17b02e7e",
   "metadata": {},
   "outputs": [],
   "source": [
    "df_test_with_nans = induce_missingness(df_test,0.5)"
   ]
  },
  {
   "cell_type": "code",
   "execution_count": 598,
   "id": "48b10b8b",
   "metadata": {},
   "outputs": [
    {
     "data": {
      "text/html": [
       "<div>\n",
       "<style scoped>\n",
       "    .dataframe tbody tr th:only-of-type {\n",
       "        vertical-align: middle;\n",
       "    }\n",
       "\n",
       "    .dataframe tbody tr th {\n",
       "        vertical-align: top;\n",
       "    }\n",
       "\n",
       "    .dataframe thead th {\n",
       "        text-align: right;\n",
       "    }\n",
       "</style>\n",
       "<table border=\"1\" class=\"dataframe\">\n",
       "  <thead>\n",
       "    <tr style=\"text-align: right;\">\n",
       "      <th></th>\n",
       "      <th>fixed_acidity</th>\n",
       "      <th>volatile_acidity</th>\n",
       "      <th>citric_acid</th>\n",
       "      <th>residual_sugar</th>\n",
       "      <th>chlorides</th>\n",
       "      <th>free_sulfur_dioxide</th>\n",
       "      <th>total_sulfur_dioxide</th>\n",
       "      <th>density</th>\n",
       "      <th>pH</th>\n",
       "      <th>sulphates</th>\n",
       "      <th>alcohol</th>\n",
       "      <th>quality_3</th>\n",
       "      <th>quality_4</th>\n",
       "      <th>quality_5</th>\n",
       "      <th>quality_6</th>\n",
       "      <th>quality_7</th>\n",
       "      <th>quality_8</th>\n",
       "      <th>quality_9</th>\n",
       "      <th>wine_type_1</th>\n",
       "      <th>wine_type_2</th>\n",
       "    </tr>\n",
       "  </thead>\n",
       "  <tbody>\n",
       "    <tr>\n",
       "      <th>0</th>\n",
       "      <td>0.239669</td>\n",
       "      <td>0.193333</td>\n",
       "      <td>0.150090</td>\n",
       "      <td>NaN</td>\n",
       "      <td>0.031561</td>\n",
       "      <td>0.079861</td>\n",
       "      <td>NaN</td>\n",
       "      <td>0.073039</td>\n",
       "      <td>0.325581</td>\n",
       "      <td>0.078652</td>\n",
       "      <td>NaN</td>\n",
       "      <td>0.0</td>\n",
       "      <td>0.0</td>\n",
       "      <td>0.0</td>\n",
       "      <td>NaN</td>\n",
       "      <td>0.0</td>\n",
       "      <td>0.0</td>\n",
       "      <td>NaN</td>\n",
       "      <td>NaN</td>\n",
       "      <td>1.0</td>\n",
       "    </tr>\n",
       "    <tr>\n",
       "      <th>1</th>\n",
       "      <td>NaN</td>\n",
       "      <td>NaN</td>\n",
       "      <td>0.198312</td>\n",
       "      <td>0.006135</td>\n",
       "      <td>0.157807</td>\n",
       "      <td>0.065972</td>\n",
       "      <td>NaN</td>\n",
       "      <td>0.066680</td>\n",
       "      <td>0.364341</td>\n",
       "      <td>NaN</td>\n",
       "      <td>0.507246</td>\n",
       "      <td>NaN</td>\n",
       "      <td>0.0</td>\n",
       "      <td>0.0</td>\n",
       "      <td>1.0</td>\n",
       "      <td>NaN</td>\n",
       "      <td>0.0</td>\n",
       "      <td>NaN</td>\n",
       "      <td>0.0</td>\n",
       "      <td>1.0</td>\n",
       "    </tr>\n",
       "    <tr>\n",
       "      <th>2</th>\n",
       "      <td>0.595041</td>\n",
       "      <td>0.146667</td>\n",
       "      <td>NaN</td>\n",
       "      <td>NaN</td>\n",
       "      <td>0.074751</td>\n",
       "      <td>0.020833</td>\n",
       "      <td>0.029954</td>\n",
       "      <td>0.209867</td>\n",
       "      <td>NaN</td>\n",
       "      <td>NaN</td>\n",
       "      <td>0.362319</td>\n",
       "      <td>NaN</td>\n",
       "      <td>NaN</td>\n",
       "      <td>0.0</td>\n",
       "      <td>0.0</td>\n",
       "      <td>1.0</td>\n",
       "      <td>0.0</td>\n",
       "      <td>0.0</td>\n",
       "      <td>NaN</td>\n",
       "      <td>0.0</td>\n",
       "    </tr>\n",
       "    <tr>\n",
       "      <th>3</th>\n",
       "      <td>NaN</td>\n",
       "      <td>0.120000</td>\n",
       "      <td>0.125980</td>\n",
       "      <td>0.099693</td>\n",
       "      <td>NaN</td>\n",
       "      <td>0.118056</td>\n",
       "      <td>NaN</td>\n",
       "      <td>0.163615</td>\n",
       "      <td>NaN</td>\n",
       "      <td>NaN</td>\n",
       "      <td>0.275362</td>\n",
       "      <td>NaN</td>\n",
       "      <td>0.0</td>\n",
       "      <td>NaN</td>\n",
       "      <td>NaN</td>\n",
       "      <td>NaN</td>\n",
       "      <td>0.0</td>\n",
       "      <td>NaN</td>\n",
       "      <td>0.0</td>\n",
       "      <td>1.0</td>\n",
       "    </tr>\n",
       "    <tr>\n",
       "      <th>4</th>\n",
       "      <td>NaN</td>\n",
       "      <td>0.173333</td>\n",
       "      <td>NaN</td>\n",
       "      <td>0.101227</td>\n",
       "      <td>NaN</td>\n",
       "      <td>NaN</td>\n",
       "      <td>NaN</td>\n",
       "      <td>0.140682</td>\n",
       "      <td>0.341085</td>\n",
       "      <td>0.151685</td>\n",
       "      <td>0.260870</td>\n",
       "      <td>NaN</td>\n",
       "      <td>NaN</td>\n",
       "      <td>1.0</td>\n",
       "      <td>0.0</td>\n",
       "      <td>0.0</td>\n",
       "      <td>0.0</td>\n",
       "      <td>0.0</td>\n",
       "      <td>NaN</td>\n",
       "      <td>NaN</td>\n",
       "    </tr>\n",
       "  </tbody>\n",
       "</table>\n",
       "</div>"
      ],
      "text/plain": [
       "   fixed_acidity  volatile_acidity  citric_acid  residual_sugar  chlorides  \\\n",
       "0       0.239669          0.193333     0.150090             NaN   0.031561   \n",
       "1            NaN               NaN     0.198312        0.006135   0.157807   \n",
       "2       0.595041          0.146667          NaN             NaN   0.074751   \n",
       "3            NaN          0.120000     0.125980        0.099693        NaN   \n",
       "4            NaN          0.173333          NaN        0.101227        NaN   \n",
       "\n",
       "   free_sulfur_dioxide  total_sulfur_dioxide   density        pH  sulphates  \\\n",
       "0             0.079861                   NaN  0.073039  0.325581   0.078652   \n",
       "1             0.065972                   NaN  0.066680  0.364341        NaN   \n",
       "2             0.020833              0.029954  0.209867       NaN        NaN   \n",
       "3             0.118056                   NaN  0.163615       NaN        NaN   \n",
       "4                  NaN                   NaN  0.140682  0.341085   0.151685   \n",
       "\n",
       "    alcohol  quality_3  quality_4  quality_5  quality_6  quality_7  quality_8  \\\n",
       "0       NaN        0.0        0.0        0.0        NaN        0.0        0.0   \n",
       "1  0.507246        NaN        0.0        0.0        1.0        NaN        0.0   \n",
       "2  0.362319        NaN        NaN        0.0        0.0        1.0        0.0   \n",
       "3  0.275362        NaN        0.0        NaN        NaN        NaN        0.0   \n",
       "4  0.260870        NaN        NaN        1.0        0.0        0.0        0.0   \n",
       "\n",
       "   quality_9  wine_type_1  wine_type_2  \n",
       "0        NaN          NaN          1.0  \n",
       "1        NaN          0.0          1.0  \n",
       "2        0.0          NaN          0.0  \n",
       "3        NaN          0.0          1.0  \n",
       "4        0.0          NaN          NaN  "
      ]
     },
     "execution_count": 598,
     "metadata": {},
     "output_type": "execute_result"
    }
   ],
   "source": [
    "df_test_with_nans.head(5)"
   ]
  },
  {
   "cell_type": "code",
   "execution_count": 599,
   "id": "6d2934e5",
   "metadata": {},
   "outputs": [
    {
     "data": {
      "text/plain": [
       "MissingIndicator()"
      ]
     },
     "execution_count": 599,
     "metadata": {},
     "output_type": "execute_result"
    }
   ],
   "source": [
    "from sklearn.impute import MissingIndicator\n",
    "indicator = MissingIndicator()\n",
    "indicator.fit(df_test_with_nans)"
   ]
  },
  {
   "cell_type": "code",
   "execution_count": 600,
   "id": "b6a7f831",
   "metadata": {},
   "outputs": [],
   "source": [
    "nan_mask = indicator.transform(df_test_with_nans)"
   ]
  },
  {
   "cell_type": "code",
   "execution_count": 601,
   "id": "fd84630c",
   "metadata": {},
   "outputs": [
    {
     "data": {
      "text/html": [
       "<div>\n",
       "<style scoped>\n",
       "    .dataframe tbody tr th:only-of-type {\n",
       "        vertical-align: middle;\n",
       "    }\n",
       "\n",
       "    .dataframe tbody tr th {\n",
       "        vertical-align: top;\n",
       "    }\n",
       "\n",
       "    .dataframe thead th {\n",
       "        text-align: right;\n",
       "    }\n",
       "</style>\n",
       "<table border=\"1\" class=\"dataframe\">\n",
       "  <thead>\n",
       "    <tr style=\"text-align: right;\">\n",
       "      <th></th>\n",
       "      <th>fixed_acidity</th>\n",
       "      <th>volatile_acidity</th>\n",
       "      <th>citric_acid</th>\n",
       "      <th>residual_sugar</th>\n",
       "      <th>chlorides</th>\n",
       "      <th>free_sulfur_dioxide</th>\n",
       "      <th>total_sulfur_dioxide</th>\n",
       "      <th>density</th>\n",
       "      <th>pH</th>\n",
       "      <th>sulphates</th>\n",
       "      <th>alcohol</th>\n",
       "      <th>quality_3</th>\n",
       "      <th>quality_4</th>\n",
       "      <th>quality_5</th>\n",
       "      <th>quality_6</th>\n",
       "      <th>quality_7</th>\n",
       "      <th>quality_8</th>\n",
       "      <th>quality_9</th>\n",
       "      <th>wine_type_1</th>\n",
       "      <th>wine_type_2</th>\n",
       "    </tr>\n",
       "  </thead>\n",
       "  <tbody>\n",
       "    <tr>\n",
       "      <th>0</th>\n",
       "      <td>False</td>\n",
       "      <td>False</td>\n",
       "      <td>False</td>\n",
       "      <td>True</td>\n",
       "      <td>False</td>\n",
       "      <td>False</td>\n",
       "      <td>True</td>\n",
       "      <td>False</td>\n",
       "      <td>False</td>\n",
       "      <td>False</td>\n",
       "      <td>True</td>\n",
       "      <td>False</td>\n",
       "      <td>False</td>\n",
       "      <td>False</td>\n",
       "      <td>True</td>\n",
       "      <td>False</td>\n",
       "      <td>False</td>\n",
       "      <td>True</td>\n",
       "      <td>True</td>\n",
       "      <td>False</td>\n",
       "    </tr>\n",
       "    <tr>\n",
       "      <th>1</th>\n",
       "      <td>True</td>\n",
       "      <td>True</td>\n",
       "      <td>False</td>\n",
       "      <td>False</td>\n",
       "      <td>False</td>\n",
       "      <td>False</td>\n",
       "      <td>True</td>\n",
       "      <td>False</td>\n",
       "      <td>False</td>\n",
       "      <td>True</td>\n",
       "      <td>False</td>\n",
       "      <td>True</td>\n",
       "      <td>False</td>\n",
       "      <td>False</td>\n",
       "      <td>False</td>\n",
       "      <td>True</td>\n",
       "      <td>False</td>\n",
       "      <td>True</td>\n",
       "      <td>False</td>\n",
       "      <td>False</td>\n",
       "    </tr>\n",
       "    <tr>\n",
       "      <th>2</th>\n",
       "      <td>False</td>\n",
       "      <td>False</td>\n",
       "      <td>True</td>\n",
       "      <td>True</td>\n",
       "      <td>False</td>\n",
       "      <td>False</td>\n",
       "      <td>False</td>\n",
       "      <td>False</td>\n",
       "      <td>True</td>\n",
       "      <td>True</td>\n",
       "      <td>False</td>\n",
       "      <td>True</td>\n",
       "      <td>True</td>\n",
       "      <td>False</td>\n",
       "      <td>False</td>\n",
       "      <td>False</td>\n",
       "      <td>False</td>\n",
       "      <td>False</td>\n",
       "      <td>True</td>\n",
       "      <td>False</td>\n",
       "    </tr>\n",
       "    <tr>\n",
       "      <th>3</th>\n",
       "      <td>True</td>\n",
       "      <td>False</td>\n",
       "      <td>False</td>\n",
       "      <td>False</td>\n",
       "      <td>True</td>\n",
       "      <td>False</td>\n",
       "      <td>True</td>\n",
       "      <td>False</td>\n",
       "      <td>True</td>\n",
       "      <td>True</td>\n",
       "      <td>False</td>\n",
       "      <td>True</td>\n",
       "      <td>False</td>\n",
       "      <td>True</td>\n",
       "      <td>True</td>\n",
       "      <td>True</td>\n",
       "      <td>False</td>\n",
       "      <td>True</td>\n",
       "      <td>False</td>\n",
       "      <td>False</td>\n",
       "    </tr>\n",
       "    <tr>\n",
       "      <th>4</th>\n",
       "      <td>True</td>\n",
       "      <td>False</td>\n",
       "      <td>True</td>\n",
       "      <td>False</td>\n",
       "      <td>True</td>\n",
       "      <td>True</td>\n",
       "      <td>True</td>\n",
       "      <td>False</td>\n",
       "      <td>False</td>\n",
       "      <td>False</td>\n",
       "      <td>False</td>\n",
       "      <td>True</td>\n",
       "      <td>True</td>\n",
       "      <td>False</td>\n",
       "      <td>False</td>\n",
       "      <td>False</td>\n",
       "      <td>False</td>\n",
       "      <td>False</td>\n",
       "      <td>True</td>\n",
       "      <td>True</td>\n",
       "    </tr>\n",
       "  </tbody>\n",
       "</table>\n",
       "</div>"
      ],
      "text/plain": [
       "   fixed_acidity  volatile_acidity  citric_acid  residual_sugar  chlorides  \\\n",
       "0          False             False        False            True      False   \n",
       "1           True              True        False           False      False   \n",
       "2          False             False         True            True      False   \n",
       "3           True             False        False           False       True   \n",
       "4           True             False         True           False       True   \n",
       "\n",
       "   free_sulfur_dioxide  total_sulfur_dioxide  density     pH  sulphates  \\\n",
       "0                False                  True    False  False      False   \n",
       "1                False                  True    False  False       True   \n",
       "2                False                 False    False   True       True   \n",
       "3                False                  True    False   True       True   \n",
       "4                 True                  True    False  False      False   \n",
       "\n",
       "   alcohol  quality_3  quality_4  quality_5  quality_6  quality_7  quality_8  \\\n",
       "0     True      False      False      False       True      False      False   \n",
       "1    False       True      False      False      False       True      False   \n",
       "2    False       True       True      False      False      False      False   \n",
       "3    False       True      False       True       True       True      False   \n",
       "4    False       True       True      False      False      False      False   \n",
       "\n",
       "   quality_9  wine_type_1  wine_type_2  \n",
       "0       True         True        False  \n",
       "1       True        False        False  \n",
       "2      False         True        False  \n",
       "3       True        False        False  \n",
       "4      False         True         True  "
      ]
     },
     "execution_count": 601,
     "metadata": {},
     "output_type": "execute_result"
    }
   ],
   "source": [
    "nan_mask_df = pd.DataFrame(data=nan_mask,columns=df_test.columns)\n",
    "nan_mask_df.head(5)"
   ]
  },
  {
   "cell_type": "code",
   "execution_count": 602,
   "id": "14024e32",
   "metadata": {},
   "outputs": [],
   "source": [
    "M = len(df_test_with_nans.index)\n",
    "N = len(df_test_with_nans.columns)\n",
    "ran = pd.DataFrame(np.random.uniform(size=(M,N)), columns=df_test_with_nans.columns, index=df_test_with_nans.index)"
   ]
  },
  {
   "cell_type": "code",
   "execution_count": 603,
   "id": "81571d2e",
   "metadata": {},
   "outputs": [
    {
     "data": {
      "text/html": [
       "<div>\n",
       "<style scoped>\n",
       "    .dataframe tbody tr th:only-of-type {\n",
       "        vertical-align: middle;\n",
       "    }\n",
       "\n",
       "    .dataframe tbody tr th {\n",
       "        vertical-align: top;\n",
       "    }\n",
       "\n",
       "    .dataframe thead th {\n",
       "        text-align: right;\n",
       "    }\n",
       "</style>\n",
       "<table border=\"1\" class=\"dataframe\">\n",
       "  <thead>\n",
       "    <tr style=\"text-align: right;\">\n",
       "      <th></th>\n",
       "      <th>fixed_acidity</th>\n",
       "      <th>volatile_acidity</th>\n",
       "      <th>citric_acid</th>\n",
       "      <th>residual_sugar</th>\n",
       "      <th>chlorides</th>\n",
       "      <th>free_sulfur_dioxide</th>\n",
       "      <th>total_sulfur_dioxide</th>\n",
       "      <th>density</th>\n",
       "      <th>pH</th>\n",
       "      <th>sulphates</th>\n",
       "      <th>alcohol</th>\n",
       "      <th>quality_3</th>\n",
       "      <th>quality_4</th>\n",
       "      <th>quality_5</th>\n",
       "      <th>quality_6</th>\n",
       "      <th>quality_7</th>\n",
       "      <th>quality_8</th>\n",
       "      <th>quality_9</th>\n",
       "      <th>wine_type_1</th>\n",
       "      <th>wine_type_2</th>\n",
       "    </tr>\n",
       "  </thead>\n",
       "  <tbody>\n",
       "    <tr>\n",
       "      <th>0</th>\n",
       "      <td>0.000000</td>\n",
       "      <td>0.000000</td>\n",
       "      <td>0.000000</td>\n",
       "      <td>0.039237</td>\n",
       "      <td>0.000000</td>\n",
       "      <td>0.00000</td>\n",
       "      <td>0.033002</td>\n",
       "      <td>0.0</td>\n",
       "      <td>0.000000</td>\n",
       "      <td>0.000000</td>\n",
       "      <td>0.173677</td>\n",
       "      <td>0.000000</td>\n",
       "      <td>0.000000</td>\n",
       "      <td>0.00000</td>\n",
       "      <td>0.078079</td>\n",
       "      <td>0.000000</td>\n",
       "      <td>0.0</td>\n",
       "      <td>0.224145</td>\n",
       "      <td>0.081339</td>\n",
       "      <td>0.000000</td>\n",
       "    </tr>\n",
       "    <tr>\n",
       "      <th>1</th>\n",
       "      <td>0.251936</td>\n",
       "      <td>0.562925</td>\n",
       "      <td>0.000000</td>\n",
       "      <td>0.000000</td>\n",
       "      <td>0.000000</td>\n",
       "      <td>0.00000</td>\n",
       "      <td>0.394083</td>\n",
       "      <td>0.0</td>\n",
       "      <td>0.000000</td>\n",
       "      <td>0.748894</td>\n",
       "      <td>0.000000</td>\n",
       "      <td>0.207407</td>\n",
       "      <td>0.000000</td>\n",
       "      <td>0.00000</td>\n",
       "      <td>0.000000</td>\n",
       "      <td>0.120410</td>\n",
       "      <td>0.0</td>\n",
       "      <td>0.733416</td>\n",
       "      <td>0.000000</td>\n",
       "      <td>0.000000</td>\n",
       "    </tr>\n",
       "    <tr>\n",
       "      <th>2</th>\n",
       "      <td>0.000000</td>\n",
       "      <td>0.000000</td>\n",
       "      <td>0.981436</td>\n",
       "      <td>0.523856</td>\n",
       "      <td>0.000000</td>\n",
       "      <td>0.00000</td>\n",
       "      <td>0.000000</td>\n",
       "      <td>0.0</td>\n",
       "      <td>0.554996</td>\n",
       "      <td>0.637509</td>\n",
       "      <td>0.000000</td>\n",
       "      <td>0.612835</td>\n",
       "      <td>0.736321</td>\n",
       "      <td>0.00000</td>\n",
       "      <td>0.000000</td>\n",
       "      <td>0.000000</td>\n",
       "      <td>0.0</td>\n",
       "      <td>0.000000</td>\n",
       "      <td>0.866396</td>\n",
       "      <td>0.000000</td>\n",
       "    </tr>\n",
       "    <tr>\n",
       "      <th>3</th>\n",
       "      <td>0.462049</td>\n",
       "      <td>0.000000</td>\n",
       "      <td>0.000000</td>\n",
       "      <td>0.000000</td>\n",
       "      <td>0.092475</td>\n",
       "      <td>0.00000</td>\n",
       "      <td>0.493922</td>\n",
       "      <td>0.0</td>\n",
       "      <td>0.814769</td>\n",
       "      <td>0.489511</td>\n",
       "      <td>0.000000</td>\n",
       "      <td>0.795466</td>\n",
       "      <td>0.000000</td>\n",
       "      <td>0.71715</td>\n",
       "      <td>0.353921</td>\n",
       "      <td>0.217951</td>\n",
       "      <td>0.0</td>\n",
       "      <td>0.443404</td>\n",
       "      <td>0.000000</td>\n",
       "      <td>0.000000</td>\n",
       "    </tr>\n",
       "    <tr>\n",
       "      <th>4</th>\n",
       "      <td>0.671815</td>\n",
       "      <td>0.000000</td>\n",
       "      <td>0.315781</td>\n",
       "      <td>0.000000</td>\n",
       "      <td>0.541138</td>\n",
       "      <td>0.76408</td>\n",
       "      <td>0.838392</td>\n",
       "      <td>0.0</td>\n",
       "      <td>0.000000</td>\n",
       "      <td>0.000000</td>\n",
       "      <td>0.000000</td>\n",
       "      <td>0.467032</td>\n",
       "      <td>0.232271</td>\n",
       "      <td>0.00000</td>\n",
       "      <td>0.000000</td>\n",
       "      <td>0.000000</td>\n",
       "      <td>0.0</td>\n",
       "      <td>0.000000</td>\n",
       "      <td>0.899430</td>\n",
       "      <td>0.536562</td>\n",
       "    </tr>\n",
       "  </tbody>\n",
       "</table>\n",
       "</div>"
      ],
      "text/plain": [
       "   fixed_acidity  volatile_acidity  citric_acid  residual_sugar  chlorides  \\\n",
       "0       0.000000          0.000000     0.000000        0.039237   0.000000   \n",
       "1       0.251936          0.562925     0.000000        0.000000   0.000000   \n",
       "2       0.000000          0.000000     0.981436        0.523856   0.000000   \n",
       "3       0.462049          0.000000     0.000000        0.000000   0.092475   \n",
       "4       0.671815          0.000000     0.315781        0.000000   0.541138   \n",
       "\n",
       "   free_sulfur_dioxide  total_sulfur_dioxide  density        pH  sulphates  \\\n",
       "0              0.00000              0.033002      0.0  0.000000   0.000000   \n",
       "1              0.00000              0.394083      0.0  0.000000   0.748894   \n",
       "2              0.00000              0.000000      0.0  0.554996   0.637509   \n",
       "3              0.00000              0.493922      0.0  0.814769   0.489511   \n",
       "4              0.76408              0.838392      0.0  0.000000   0.000000   \n",
       "\n",
       "    alcohol  quality_3  quality_4  quality_5  quality_6  quality_7  quality_8  \\\n",
       "0  0.173677   0.000000   0.000000    0.00000   0.078079   0.000000        0.0   \n",
       "1  0.000000   0.207407   0.000000    0.00000   0.000000   0.120410        0.0   \n",
       "2  0.000000   0.612835   0.736321    0.00000   0.000000   0.000000        0.0   \n",
       "3  0.000000   0.795466   0.000000    0.71715   0.353921   0.217951        0.0   \n",
       "4  0.000000   0.467032   0.232271    0.00000   0.000000   0.000000        0.0   \n",
       "\n",
       "   quality_9  wine_type_1  wine_type_2  \n",
       "0   0.224145     0.081339     0.000000  \n",
       "1   0.733416     0.000000     0.000000  \n",
       "2   0.000000     0.866396     0.000000  \n",
       "3   0.443404     0.000000     0.000000  \n",
       "4   0.000000     0.899430     0.536562  "
      ]
     },
     "execution_count": 603,
     "metadata": {},
     "output_type": "execute_result"
    }
   ],
   "source": [
    "df_test_nans_filled = df_test_with_nans.copy()\n",
    "df_test_nans_filled[df_test_with_nans.isnull()==True] = ran\n",
    "(df_test_nans_filled*nan_mask_df).head(5)"
   ]
  },
  {
   "cell_type": "code",
   "execution_count": 614,
   "id": "e9589d84",
   "metadata": {},
   "outputs": [
    {
     "data": {
      "image/png": "[encoded data removed]",
      "text/plain": [
       "<Figure size 432x288 with 1 Axes>"
      ]
     },
     "metadata": {
      "needs_background": "light"
     },
     "output_type": "display_data"
    }
   ],
   "source": [
    "dtensor = torch.FloatTensor(df_test.to_numpy())\n",
    "device = torch.device(\"cpu\")\n",
    "model = VAE(num_feats = 20,latent_dims=2).to(device)\n",
    "optimizer = optim.Adam(model.parameters(), lr=1e-3)\n",
    "\n",
    "rmse,model_out = train_model(data_array=dtensor,model_in=model,\n",
    "                optimizer_in=optimizer,device_in=device,epochs=100,batch_size=125)"
   ]
  },
  {
   "cell_type": "code",
   "execution_count": 615,
   "id": "7ff723fe",
   "metadata": {},
   "outputs": [],
   "source": [
    "from torch.nn import BCELoss"
   ]
  },
  {
   "cell_type": "code",
   "execution_count": 616,
   "id": "e7573184",
   "metadata": {},
   "outputs": [],
   "source": [
    "def vae_imputation(model_in,df_true,df_missing,mask_df,feature_type):\n",
    "    df_out = df_missing.copy()\n",
    "    rmse_out = []\n",
    "    loss_out = []\n",
    "    mask_tensor = torch.FloatTensor(mask_df.to_numpy())\n",
    "    loss = BCELoss()\n",
    "    for i in range(1000): \n",
    "        model_in.eval()\n",
    "        recon,_,_ = model_in.forward(torch.FloatTensor(df_out.to_numpy()))\n",
    "        recon_df  = pd.DataFrame(data=recon.detach().numpy(),columns=mask_df.columns)\n",
    "        df_out[mask_df==True] = recon_df\n",
    "        \n",
    "        for col in feature_type.columns:\n",
    "            \n",
    "            if feature_type[col].values == 'cat':\n",
    "                \n",
    "                df_out[col]   = df_out[col].round()\n",
    "                recon_df[col] = recon_df[col].round()\n",
    "                \n",
    "        \n",
    "        loss_out.append(loss((1-mask_tensor)*torch.FloatTensor(df_true.to_numpy()),\n",
    "                (1-mask_tensor)*torch.FloatTensor(recon_df.to_numpy())).item())\n",
    "        \n",
    "        rmse_out.append(RMSE(mask_df.to_numpy()*df_true.to_numpy(),mask_df.to_numpy()*recon_df.to_numpy()))\n",
    "    return df_out,rmse_out,loss_out"
   ]
  },
  {
   "cell_type": "code",
   "execution_count": 617,
   "id": "66682081",
   "metadata": {},
   "outputs": [],
   "source": [
    "out,rmse,loss_out =vae_imputation(model_in=model_out,\n",
    "               df_true=df_test,df_missing=df_test_nans_filled,\n",
    "                         mask_df=nan_mask_df,feature_type=col_type)"
   ]
  },
  {
   "cell_type": "code",
   "execution_count": 618,
   "id": "9305ccd8",
   "metadata": {},
   "outputs": [
    {
     "data": {
      "image/png": "[encoded data removed]",
      "text/plain": [
       "<Figure size 432x288 with 1 Axes>"
      ]
     },
     "metadata": {
      "needs_background": "light"
     },
     "output_type": "display_data"
    }
   ],
   "source": [
    "plt.plot(rmse)\n",
    "plt.title('Imputed Value RMSE with GT')\n",
    "plt.show()"
   ]
  },
  {
   "cell_type": "code",
   "execution_count": 619,
   "id": "60d8e49c",
   "metadata": {},
   "outputs": [
    {
     "data": {
      "image/png": "[encoded data removed]",
      "text/plain": [
       "<Figure size 432x288 with 1 Axes>"
      ]
     },
     "metadata": {
      "needs_background": "light"
     },
     "output_type": "display_data"
    }
   ],
   "source": [
    "plt.plot(loss_out)\n",
    "plt.title('BCELoss of non-missing reconstruction')\n",
    "plt.show()"
   ]
  },
  {
   "cell_type": "code",
   "execution_count": 620,
   "id": "7a79c3df",
   "metadata": {},
   "outputs": [],
   "source": [
    "from sklearn.impute import KNNImputer"
   ]
  },
  {
   "cell_type": "code",
   "execution_count": 621,
   "id": "18bbae72",
   "metadata": {},
   "outputs": [],
   "source": [
    "imputer = KNNImputer(n_neighbors=2)\n",
    "imputer.fit_transform(df_test_with_nans.to_numpy())\n",
    "knn_imputed = imputer.transform(df_test_with_nans.to_numpy())"
   ]
  },
  {
   "cell_type": "code",
   "execution_count": 622,
   "id": "9edb20f0",
   "metadata": {},
   "outputs": [
    {
     "data": {
      "text/plain": [
       "0.15779432040517108"
      ]
     },
     "execution_count": 622,
     "metadata": {},
     "output_type": "execute_result"
    }
   ],
   "source": [
    "RMSE(df_test.to_numpy(),knn_imputed)"
   ]
  },
  {
   "cell_type": "code",
   "execution_count": 623,
   "id": "e130d3ae",
   "metadata": {},
   "outputs": [
    {
     "data": {
      "text/plain": [
       "0.19859335809053627"
      ]
     },
     "execution_count": 623,
     "metadata": {},
     "output_type": "execute_result"
    }
   ],
   "source": [
    "RMSE(df_test.to_numpy(),out.to_numpy())"
   ]
  },
  {
   "cell_type": "code",
   "execution_count": 586,
   "id": "461028c5",
   "metadata": {},
   "outputs": [],
   "source": [
    "from sklearn.metrics import mean_absolute_error"
   ]
  },
  {
   "cell_type": "code",
   "execution_count": 589,
   "id": "2a5852f7",
   "metadata": {},
   "outputs": [
    {
     "data": {
      "text/plain": [
       "2.1906882055179313"
      ]
     },
     "execution_count": 589,
     "metadata": {},
     "output_type": "execute_result"
    }
   ],
   "source": [
    "mean_absolute_error(scaler.inverse_transform(df_test.to_numpy()),scaler.inverse_transform(knn_imputed))"
   ]
  },
  {
   "cell_type": "code",
   "execution_count": 590,
   "id": "a2742160",
   "metadata": {},
   "outputs": [
    {
     "data": {
      "text/plain": [
       "2.243308663482053"
      ]
     },
     "execution_count": 590,
     "metadata": {},
     "output_type": "execute_result"
    }
   ],
   "source": [
    "mean_absolute_error(scaler.inverse_transform(df_test.to_numpy()),scaler.inverse_transform(out.to_numpy()))"
   ]
  },
  {
   "cell_type": "code",
   "execution_count": null,
   "id": "46e42fcf",
   "metadata": {},
   "outputs": [],
   "source": []
  }
 ],
 "metadata": {
  "kernelspec": {
   "display_name": "Python 3.8.10 64-bit ('tf_env1.': conda)",
   "language": "python",
   "name": "python3810jvsc74a57bd0d62a3a3ce03ba98fc859896d91ce0003b1eb7a8bae8ba053e42c1ba4fa0101c8"
  },
  "language_info": {
   "codemirror_mode": {
    "name": "ipython",
    "version": 3
   },
   "file_extension": ".py",
   "mimetype": "text/x-python",
   "name": "python",
   "nbconvert_exporter": "python",
   "pygments_lexer": "ipython3",
   "version": "3.8.10"
  }
 },
 "nbformat": 4,
 "nbformat_minor": 5
}
